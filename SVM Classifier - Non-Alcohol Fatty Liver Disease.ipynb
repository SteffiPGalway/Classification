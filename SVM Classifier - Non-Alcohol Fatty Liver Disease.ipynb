{
 "cells": [
  {
   "cell_type": "markdown",
   "id": "1360939c",
   "metadata": {},
   "source": [
    "# Binary Classifier - Non-Alcohol Fatty Liver Disease"
   ]
  },
  {
   "cell_type": "markdown",
   "id": "d3ad1c05",
   "metadata": {},
   "source": [
    "## A. Introduction"
   ]
  },
  {
   "cell_type": "markdown",
   "id": "63f6eeed",
   "metadata": {},
   "source": [
    "Each example is a fatty liver disease case with status either 1 (not alive) or 0 (alive). "
   ]
  },
  {
   "cell_type": "markdown",
   "id": "f50e45df",
   "metadata": {},
   "source": [
    "## B. Importing Libraries & Dataset"
   ]
  },
  {
   "cell_type": "code",
   "execution_count": 1,
   "id": "887e77f8",
   "metadata": {},
   "outputs": [],
   "source": [
    "import pandas as pd"
   ]
  },
  {
   "cell_type": "code",
   "execution_count": 2,
   "id": "c4e48367",
   "metadata": {},
   "outputs": [],
   "source": [
    "df = pd.read_csv(\"Desktop/archive/nafld1.csv\")"
   ]
  },
  {
   "cell_type": "code",
   "execution_count": 3,
   "id": "502d7df5",
   "metadata": {},
   "outputs": [
    {
     "data": {
      "text/html": [
       "<div>\n",
       "<style scoped>\n",
       "    .dataframe tbody tr th:only-of-type {\n",
       "        vertical-align: middle;\n",
       "    }\n",
       "\n",
       "    .dataframe tbody tr th {\n",
       "        vertical-align: top;\n",
       "    }\n",
       "\n",
       "    .dataframe thead th {\n",
       "        text-align: right;\n",
       "    }\n",
       "</style>\n",
       "<table border=\"1\" class=\"dataframe\">\n",
       "  <thead>\n",
       "    <tr style=\"text-align: right;\">\n",
       "      <th></th>\n",
       "      <th>Unnamed: 0</th>\n",
       "      <th>id</th>\n",
       "      <th>age</th>\n",
       "      <th>male</th>\n",
       "      <th>weight</th>\n",
       "      <th>height</th>\n",
       "      <th>bmi</th>\n",
       "      <th>case.id</th>\n",
       "      <th>futime</th>\n",
       "      <th>status</th>\n",
       "    </tr>\n",
       "  </thead>\n",
       "  <tbody>\n",
       "    <tr>\n",
       "      <th>0</th>\n",
       "      <td>3631</td>\n",
       "      <td>1</td>\n",
       "      <td>57</td>\n",
       "      <td>0</td>\n",
       "      <td>60.0</td>\n",
       "      <td>163.0</td>\n",
       "      <td>22.690939</td>\n",
       "      <td>10630.0</td>\n",
       "      <td>6261</td>\n",
       "      <td>0</td>\n",
       "    </tr>\n",
       "    <tr>\n",
       "      <th>1</th>\n",
       "      <td>8458</td>\n",
       "      <td>2</td>\n",
       "      <td>67</td>\n",
       "      <td>0</td>\n",
       "      <td>70.4</td>\n",
       "      <td>168.0</td>\n",
       "      <td>24.884028</td>\n",
       "      <td>14817.0</td>\n",
       "      <td>624</td>\n",
       "      <td>0</td>\n",
       "    </tr>\n",
       "    <tr>\n",
       "      <th>2</th>\n",
       "      <td>6298</td>\n",
       "      <td>3</td>\n",
       "      <td>53</td>\n",
       "      <td>1</td>\n",
       "      <td>105.8</td>\n",
       "      <td>186.0</td>\n",
       "      <td>30.453537</td>\n",
       "      <td>3.0</td>\n",
       "      <td>1783</td>\n",
       "      <td>0</td>\n",
       "    </tr>\n",
       "    <tr>\n",
       "      <th>3</th>\n",
       "      <td>15398</td>\n",
       "      <td>4</td>\n",
       "      <td>56</td>\n",
       "      <td>1</td>\n",
       "      <td>109.3</td>\n",
       "      <td>170.0</td>\n",
       "      <td>37.830100</td>\n",
       "      <td>6628.0</td>\n",
       "      <td>3143</td>\n",
       "      <td>0</td>\n",
       "    </tr>\n",
       "    <tr>\n",
       "      <th>4</th>\n",
       "      <td>13261</td>\n",
       "      <td>5</td>\n",
       "      <td>68</td>\n",
       "      <td>1</td>\n",
       "      <td>NaN</td>\n",
       "      <td>NaN</td>\n",
       "      <td>NaN</td>\n",
       "      <td>1871.0</td>\n",
       "      <td>1836</td>\n",
       "      <td>1</td>\n",
       "    </tr>\n",
       "  </tbody>\n",
       "</table>\n",
       "</div>"
      ],
      "text/plain": [
       "   Unnamed: 0  id  age  male  weight  height        bmi  case.id  futime  \\\n",
       "0        3631   1   57     0    60.0   163.0  22.690939  10630.0    6261   \n",
       "1        8458   2   67     0    70.4   168.0  24.884028  14817.0     624   \n",
       "2        6298   3   53     1   105.8   186.0  30.453537      3.0    1783   \n",
       "3       15398   4   56     1   109.3   170.0  37.830100   6628.0    3143   \n",
       "4       13261   5   68     1     NaN     NaN        NaN   1871.0    1836   \n",
       "\n",
       "   status  \n",
       "0       0  \n",
       "1       0  \n",
       "2       0  \n",
       "3       0  \n",
       "4       1  "
      ]
     },
     "execution_count": 3,
     "metadata": {},
     "output_type": "execute_result"
    }
   ],
   "source": [
    "df.head()"
   ]
  },
  {
   "cell_type": "code",
   "execution_count": 4,
   "id": "7a053789",
   "metadata": {},
   "outputs": [
    {
     "data": {
      "text/html": [
       "<div>\n",
       "<style scoped>\n",
       "    .dataframe tbody tr th:only-of-type {\n",
       "        vertical-align: middle;\n",
       "    }\n",
       "\n",
       "    .dataframe tbody tr th {\n",
       "        vertical-align: top;\n",
       "    }\n",
       "\n",
       "    .dataframe thead th {\n",
       "        text-align: right;\n",
       "    }\n",
       "</style>\n",
       "<table border=\"1\" class=\"dataframe\">\n",
       "  <thead>\n",
       "    <tr style=\"text-align: right;\">\n",
       "      <th></th>\n",
       "      <th>Unnamed: 0</th>\n",
       "      <th>id</th>\n",
       "      <th>age</th>\n",
       "      <th>male</th>\n",
       "      <th>weight</th>\n",
       "      <th>height</th>\n",
       "      <th>bmi</th>\n",
       "      <th>case.id</th>\n",
       "      <th>futime</th>\n",
       "      <th>status</th>\n",
       "    </tr>\n",
       "  </thead>\n",
       "  <tbody>\n",
       "    <tr>\n",
       "      <th>17544</th>\n",
       "      <td>11130</td>\n",
       "      <td>17562</td>\n",
       "      <td>46</td>\n",
       "      <td>0</td>\n",
       "      <td>53.0</td>\n",
       "      <td>161.0</td>\n",
       "      <td>20.501023</td>\n",
       "      <td>12713.0</td>\n",
       "      <td>1894</td>\n",
       "      <td>0</td>\n",
       "    </tr>\n",
       "    <tr>\n",
       "      <th>17545</th>\n",
       "      <td>1099</td>\n",
       "      <td>17563</td>\n",
       "      <td>52</td>\n",
       "      <td>1</td>\n",
       "      <td>111.8</td>\n",
       "      <td>154.0</td>\n",
       "      <td>47.335905</td>\n",
       "      <td>17563.0</td>\n",
       "      <td>3841</td>\n",
       "      <td>0</td>\n",
       "    </tr>\n",
       "    <tr>\n",
       "      <th>17546</th>\n",
       "      <td>1522</td>\n",
       "      <td>17564</td>\n",
       "      <td>59</td>\n",
       "      <td>0</td>\n",
       "      <td>57.3</td>\n",
       "      <td>NaN</td>\n",
       "      <td>NaN</td>\n",
       "      <td>16164.0</td>\n",
       "      <td>5081</td>\n",
       "      <td>0</td>\n",
       "    </tr>\n",
       "    <tr>\n",
       "      <th>17547</th>\n",
       "      <td>5764</td>\n",
       "      <td>17565</td>\n",
       "      <td>61</td>\n",
       "      <td>0</td>\n",
       "      <td>NaN</td>\n",
       "      <td>NaN</td>\n",
       "      <td>NaN</td>\n",
       "      <td>17276.0</td>\n",
       "      <td>3627</td>\n",
       "      <td>1</td>\n",
       "    </tr>\n",
       "    <tr>\n",
       "      <th>17548</th>\n",
       "      <td>6658</td>\n",
       "      <td>17566</td>\n",
       "      <td>69</td>\n",
       "      <td>1</td>\n",
       "      <td>94.1</td>\n",
       "      <td>180.0</td>\n",
       "      <td>29.204650</td>\n",
       "      <td>2017.0</td>\n",
       "      <td>2744</td>\n",
       "      <td>0</td>\n",
       "    </tr>\n",
       "  </tbody>\n",
       "</table>\n",
       "</div>"
      ],
      "text/plain": [
       "       Unnamed: 0     id  age  male  weight  height        bmi  case.id  \\\n",
       "17544       11130  17562   46     0    53.0   161.0  20.501023  12713.0   \n",
       "17545        1099  17563   52     1   111.8   154.0  47.335905  17563.0   \n",
       "17546        1522  17564   59     0    57.3     NaN        NaN  16164.0   \n",
       "17547        5764  17565   61     0     NaN     NaN        NaN  17276.0   \n",
       "17548        6658  17566   69     1    94.1   180.0  29.204650   2017.0   \n",
       "\n",
       "       futime  status  \n",
       "17544    1894       0  \n",
       "17545    3841       0  \n",
       "17546    5081       0  \n",
       "17547    3627       1  \n",
       "17548    2744       0  "
      ]
     },
     "execution_count": 4,
     "metadata": {},
     "output_type": "execute_result"
    }
   ],
   "source": [
    "df.tail()"
   ]
  },
  {
   "cell_type": "code",
   "execution_count": 5,
   "id": "54883bcf",
   "metadata": {},
   "outputs": [],
   "source": [
    "df.drop('id', axis=1, inplace=True)"
   ]
  },
  {
   "cell_type": "code",
   "execution_count": 6,
   "id": "4e64f1d8",
   "metadata": {},
   "outputs": [],
   "source": [
    "df.drop('case.id', axis=1, inplace=True)"
   ]
  },
  {
   "cell_type": "code",
   "execution_count": 7,
   "id": "d55816d3",
   "metadata": {},
   "outputs": [
    {
     "data": {
      "text/html": [
       "<div>\n",
       "<style scoped>\n",
       "    .dataframe tbody tr th:only-of-type {\n",
       "        vertical-align: middle;\n",
       "    }\n",
       "\n",
       "    .dataframe tbody tr th {\n",
       "        vertical-align: top;\n",
       "    }\n",
       "\n",
       "    .dataframe thead th {\n",
       "        text-align: right;\n",
       "    }\n",
       "</style>\n",
       "<table border=\"1\" class=\"dataframe\">\n",
       "  <thead>\n",
       "    <tr style=\"text-align: right;\">\n",
       "      <th></th>\n",
       "      <th>age</th>\n",
       "      <th>male</th>\n",
       "      <th>weight</th>\n",
       "      <th>height</th>\n",
       "      <th>bmi</th>\n",
       "      <th>futime</th>\n",
       "      <th>status</th>\n",
       "    </tr>\n",
       "  </thead>\n",
       "  <tbody>\n",
       "    <tr>\n",
       "      <th>17544</th>\n",
       "      <td>46</td>\n",
       "      <td>0</td>\n",
       "      <td>53.0</td>\n",
       "      <td>161.0</td>\n",
       "      <td>20.501023</td>\n",
       "      <td>1894</td>\n",
       "      <td>0</td>\n",
       "    </tr>\n",
       "    <tr>\n",
       "      <th>17545</th>\n",
       "      <td>52</td>\n",
       "      <td>1</td>\n",
       "      <td>111.8</td>\n",
       "      <td>154.0</td>\n",
       "      <td>47.335905</td>\n",
       "      <td>3841</td>\n",
       "      <td>0</td>\n",
       "    </tr>\n",
       "    <tr>\n",
       "      <th>17546</th>\n",
       "      <td>59</td>\n",
       "      <td>0</td>\n",
       "      <td>57.3</td>\n",
       "      <td>NaN</td>\n",
       "      <td>NaN</td>\n",
       "      <td>5081</td>\n",
       "      <td>0</td>\n",
       "    </tr>\n",
       "    <tr>\n",
       "      <th>17547</th>\n",
       "      <td>61</td>\n",
       "      <td>0</td>\n",
       "      <td>NaN</td>\n",
       "      <td>NaN</td>\n",
       "      <td>NaN</td>\n",
       "      <td>3627</td>\n",
       "      <td>1</td>\n",
       "    </tr>\n",
       "    <tr>\n",
       "      <th>17548</th>\n",
       "      <td>69</td>\n",
       "      <td>1</td>\n",
       "      <td>94.1</td>\n",
       "      <td>180.0</td>\n",
       "      <td>29.204650</td>\n",
       "      <td>2744</td>\n",
       "      <td>0</td>\n",
       "    </tr>\n",
       "  </tbody>\n",
       "</table>\n",
       "</div>"
      ],
      "text/plain": [
       "       age  male  weight  height        bmi  futime  status\n",
       "17544   46     0    53.0   161.0  20.501023    1894       0\n",
       "17545   52     1   111.8   154.0  47.335905    3841       0\n",
       "17546   59     0    57.3     NaN        NaN    5081       0\n",
       "17547   61     0     NaN     NaN        NaN    3627       1\n",
       "17548   69     1    94.1   180.0  29.204650    2744       0"
      ]
     },
     "execution_count": 7,
     "metadata": {},
     "output_type": "execute_result"
    }
   ],
   "source": [
    "df.drop(columns=df.columns[0], axis=1, inplace=True)\n",
    "df.tail()"
   ]
  },
  {
   "cell_type": "code",
   "execution_count": 8,
   "id": "05166674",
   "metadata": {},
   "outputs": [
    {
     "data": {
      "text/plain": [
       "age        0.000000\n",
       "male       0.000000\n",
       "weight    27.272209\n",
       "height    18.052311\n",
       "bmi       28.269417\n",
       "futime     0.000000\n",
       "status     0.000000\n",
       "dtype: float64"
      ]
     },
     "execution_count": 8,
     "metadata": {},
     "output_type": "execute_result"
    }
   ],
   "source": [
    "df.isnull().sum() / len(df) * 100"
   ]
  },
  {
   "cell_type": "code",
   "execution_count": 9,
   "id": "e2aeeae2",
   "metadata": {},
   "outputs": [],
   "source": [
    "for col in df.columns:\n",
    "    if df[col].dtypes != 'object':\n",
    "        df[col].fillna(df[col].median(),inplace=True)\n",
    "    else:\n",
    "        df[col].fillna(df[col].mode()[0],inplace=True)"
   ]
  },
  {
   "cell_type": "markdown",
   "id": "af072045",
   "metadata": {},
   "source": [
    "## C. Feature Selection"
   ]
  },
  {
   "cell_type": "markdown",
   "id": "41d39654",
   "metadata": {},
   "source": [
    "We will separate the columns into *target* and *predictors*."
   ]
  },
  {
   "cell_type": "code",
   "execution_count": 10,
   "id": "6cf6dfe1",
   "metadata": {},
   "outputs": [],
   "source": [
    "feature_columns = ['age','male','weight','height','bmi']"
   ]
  },
  {
   "cell_type": "code",
   "execution_count": 11,
   "id": "fbda34bc",
   "metadata": {},
   "outputs": [],
   "source": [
    "X = df[feature_columns]\n",
    "y = df['status']"
   ]
  },
  {
   "cell_type": "markdown",
   "id": "53eac080",
   "metadata": {},
   "source": [
    "## D. Splitting Dataset"
   ]
  },
  {
   "cell_type": "markdown",
   "id": "1ca25f51",
   "metadata": {},
   "source": [
    "We will divide the dataset into a training set and a test set using the function train_test_split() and by passing three parameters: \n",
    "- features\n",
    "- test_set size\n",
    "- random_state"
   ]
  },
  {
   "cell_type": "code",
   "execution_count": 12,
   "id": "de1df8fb",
   "metadata": {},
   "outputs": [],
   "source": [
    "from sklearn.model_selection import train_test_split\n",
    "X_train, X_test, y_train, y_test = train_test_split(X, y, test_size=0.33, random_state = 42)"
   ]
  },
  {
   "cell_type": "markdown",
   "id": "5929c367",
   "metadata": {},
   "source": [
    "To prevent any data leakage, scale X_train and X_test by fitting a scaler model to X_train and transforming them to z-scores separately:"
   ]
  },
  {
   "cell_type": "code",
   "execution_count": 13,
   "id": "1bba2242",
   "metadata": {},
   "outputs": [],
   "source": [
    "from sklearn.preprocessing import StandardScaler\n",
    "model = StandardScaler() \n",
    "X_train_scaled = model.fit_transform(X_train)\n",
    "X_test_scaled = model.transform(X_test)"
   ]
  },
  {
   "cell_type": "markdown",
   "id": "052251a2",
   "metadata": {},
   "source": [
    "## E. Model Development "
   ]
  },
  {
   "cell_type": "markdown",
   "id": "a0ad71d4",
   "metadata": {},
   "source": [
    "We will tune the hyperparameters of our SVC model using a grid search. \n",
    "\n",
    "We only selected fewer parameters to reduce the time to train the model. Within 3 x 4 combinations, we are trying  12 different combinations on each run."
   ]
  },
  {
   "cell_type": "code",
   "execution_count": 14,
   "id": "63ea2a9b",
   "metadata": {},
   "outputs": [],
   "source": [
    "import numpy as np\n",
    "grid = {'C': [1, 10], \n",
    "        'kernel': ['linear', 'rbf'] }"
   ]
  },
  {
   "cell_type": "markdown",
   "id": "d8f4398b",
   "metadata": {},
   "source": [
    "We will the GridSearchCV model with the gamma hyperparameter set to auto to avoid warnings and set probability to True. \n",
    "\n",
    "To speed up the time it takes:\n",
    "- we will set cv = 3 to fit 3 models for each parameter group, \n",
    "- we will set n_jobs = -1 to create one job per core automatically. \n",
    "\n",
    "With verbose = 1 we get the computation time for each fold and parameter candidate. "
   ]
  },
  {
   "cell_type": "code",
   "execution_count": 15,
   "id": "cc46fc19",
   "metadata": {},
   "outputs": [],
   "source": [
    "from sklearn.model_selection import GridSearchCV\n",
    "from sklearn.svm import SVC\n",
    "model = GridSearchCV(estimator=SVC(gamma='auto'), param_grid=grid, cv=3, n_jobs=-1, verbose=1)"
   ]
  },
  {
   "cell_type": "markdown",
   "id": "01fe3eaa",
   "metadata": {},
   "source": [
    "We will fit the grid search model. We will calculate the elapsed time. "
   ]
  },
  {
   "cell_type": "code",
   "execution_count": 16,
   "id": "4e5dc997",
   "metadata": {},
   "outputs": [
    {
     "name": "stdout",
     "output_type": "stream",
     "text": [
      "Fitting 3 folds for each of 4 candidates, totalling 12 fits\n",
      "Execution time: 297.43122720718384 seconds\n"
     ]
    }
   ],
   "source": [
    "import time\n",
    "start_time = time.time()\n",
    "model.fit(X_train, y_train)\n",
    "end_time = time.time()\n",
    "elapsed_time = end_time - start_time\n",
    "print('Execution time:', elapsed_time, 'seconds')"
   ]
  },
  {
   "cell_type": "markdown",
   "id": "da58d175",
   "metadata": {},
   "source": [
    "We will print the best parameters:"
   ]
  },
  {
   "cell_type": "code",
   "execution_count": 17,
   "id": "c5a41647",
   "metadata": {},
   "outputs": [
    {
     "name": "stdout",
     "output_type": "stream",
     "text": [
      "{'C': 10, 'kernel': 'linear'}\n"
     ]
    }
   ],
   "source": [
    "best_parameters = model.best_params_\n",
    "print(best_parameters)"
   ]
  },
  {
   "cell_type": "markdown",
   "id": "72fc7d95",
   "metadata": {},
   "source": [
    "We will calculate the accuracy of the training data:"
   ]
  },
  {
   "cell_type": "code",
   "execution_count": 19,
   "id": "71f8efcb",
   "metadata": {},
   "outputs": [],
   "source": [
    "model_pred_train = model.predict(X_train)"
   ]
  },
  {
   "cell_type": "markdown",
   "id": "14957fcb",
   "metadata": {},
   "source": [
    "We will calculate the accuracy of the test data:"
   ]
  },
  {
   "cell_type": "code",
   "execution_count": 20,
   "id": "75a5b034",
   "metadata": {},
   "outputs": [],
   "source": [
    "model_pred_test = model.predict(X_test)"
   ]
  },
  {
   "cell_type": "code",
   "execution_count": 21,
   "id": "ae04b222",
   "metadata": {},
   "outputs": [
    {
     "name": "stdout",
     "output_type": "stream",
     "text": [
      "SVC:\n",
      "> Accuracy on training data = 0.9238\n",
      "> Accuracy on validation data = 0.9216\n"
     ]
    }
   ],
   "source": [
    "from sklearn.metrics import accuracy_score\n",
    "print('SVC:\\n> Accuracy on training data = {:.4f}\\n> Accuracy on validation data = {:.4f}'.format( accuracy_score(y_true=y_train, y_pred=model_pred_train), accuracy_score(y_true=y_test, y_pred=model_pred_test)))"
   ]
  },
  {
   "cell_type": "markdown",
   "id": "f3503031",
   "metadata": {},
   "source": [
    "- The classifier predicts 92.38% of the training data correctly. \n",
    "- The accuracy on test data is almost the same as the accuracy on the training data. The variance of the model is not high.So, we assume that the classifier is not overfitting the model."
   ]
  },
  {
   "cell_type": "markdown",
   "id": "2bc6cb53",
   "metadata": {},
   "source": [
    "## F. Model Evaluation"
   ]
  },
  {
   "cell_type": "markdown",
   "id": "e92f4c75",
   "metadata": {},
   "source": [
    "A confusion matrix is a table that is used to evaluate the performance of a classification model."
   ]
  },
  {
   "cell_type": "code",
   "execution_count": 22,
   "id": "33519cf7",
   "metadata": {},
   "outputs": [
    {
     "name": "stdout",
     "output_type": "stream",
     "text": [
      "           Predicted Alive  Predicted Not Alive  Total\n",
      "Alive                 5330                    3   5333\n",
      "Not Alive              451                    8    459\n",
      "Total                 5781                   11   5792\n"
     ]
    }
   ],
   "source": [
    "from sklearn.metrics import confusion_matrix\n",
    "cm = pd.DataFrame(confusion_matrix(y_test, model_pred_test))\n",
    "cm['Total'] = np.sum(cm, axis=1)\n",
    "cm = cm.append(np.sum(cm, axis=0), ignore_index=True)\n",
    "cm.columns = ['Predicted Alive', 'Predicted Not Alive', 'Total']\n",
    "cm = cm.set_index([['Alive', 'Not Alive', 'Total']])\n",
    "print(cm)"
   ]
  },
  {
   "cell_type": "markdown",
   "id": "1d2b40b6",
   "metadata": {},
   "source": [
    "5330 and 8 are actual predictions, and 451 and 3 are incorrect predictions."
   ]
  },
  {
   "cell_type": "markdown",
   "id": "25f7c288",
   "metadata": {},
   "source": [
    "We will evaluate the model using classification_report for accuracy, precision, and recall."
   ]
  },
  {
   "cell_type": "code",
   "execution_count": 23,
   "id": "a68c9d12",
   "metadata": {},
   "outputs": [
    {
     "name": "stdout",
     "output_type": "stream",
     "text": [
      "              precision    recall  f1-score   support\n",
      "\n",
      "       alive       0.92      1.00      0.96      5333\n",
      "   not alive       0.73      0.02      0.03       459\n",
      "\n",
      "    accuracy                           0.92      5792\n",
      "   macro avg       0.82      0.51      0.50      5792\n",
      "weighted avg       0.91      0.92      0.89      5792\n",
      "\n"
     ]
    }
   ],
   "source": [
    "from sklearn.metrics import classification_report\n",
    "target_names = ['alive', 'not alive']\n",
    "print(classification_report(y_test, model_pred_test, target_names=target_names))"
   ]
  },
  {
   "cell_type": "markdown",
   "id": "4ea7841c",
   "metadata": {},
   "source": [
    "We got a classification rate of 92%. This is considered as good accuracy."
   ]
  }
 ],
 "metadata": {
  "kernelspec": {
   "display_name": "Python 3 (ipykernel)",
   "language": "python",
   "name": "python3"
  },
  "language_info": {
   "codemirror_mode": {
    "name": "ipython",
    "version": 3
   },
   "file_extension": ".py",
   "mimetype": "text/x-python",
   "name": "python",
   "nbconvert_exporter": "python",
   "pygments_lexer": "ipython3",
   "version": "3.7.13"
  }
 },
 "nbformat": 4,
 "nbformat_minor": 5
}
