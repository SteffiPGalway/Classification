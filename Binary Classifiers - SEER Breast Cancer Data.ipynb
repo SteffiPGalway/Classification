{
 "cells": [
  {
   "cell_type": "markdown",
   "id": "6d6ee34b",
   "metadata": {},
   "source": [
    "# Binary Classifiers - SEER Breast Cancer Data"
   ]
  },
  {
   "cell_type": "markdown",
   "id": "676aa7e9",
   "metadata": {},
   "source": [
    "The dataset includes the following independent features and target variable:\n",
    "\n",
    "**Numerical Attribute:**\n",
    "- Age: Age of patient at diagnosis\n",
    "- Tumor Size: Size of tumor at diagnosis\n",
    "- Regional Node Examined\n",
    "- Reginol Node Positive\n",
    "- Survival Months\n",
    "\n",
    "**Categorical Attribute:**\n",
    "- Race: Race of patient (white, other (American Indian/ AK Native, Asian/ Pacific Islander)\n",
    "- Marital Status: Married (including common law), Single (never married), other)\n",
    "- T Stage: Tumor Size (T2, T1, other)\n",
    "- N Stage: Number of lymph nodes involved (N1, N2, other)\n",
    "- 6th Stage: Overall stage of cancer (IIA, IIB, other)\n",
    "- Grade: Grade of cancer (Moderately differentiated; Grade II, Poorly differentiated; Grade III, other)\n",
    "- A Stage: Distant metastasis status (Regional, Distant)\n",
    "- Estrogen Status\n",
    "- Progesterone Status\n",
    "\n",
    "**Target Variable:**\n",
    "- Status: Alive or Dead"
   ]
  },
  {
   "cell_type": "markdown",
   "id": "b74880b3",
   "metadata": {},
   "source": [
    "## A. Importing Libraries and Dataset"
   ]
  },
  {
   "cell_type": "code",
   "execution_count": 1,
   "id": "48fd398d",
   "metadata": {},
   "outputs": [],
   "source": [
    "from sklearn.metrics import confusion_matrix, classification_report, accuracy_score\n",
    "from sklearn.model_selection import train_test_split\n",
    "from sklearn.linear_model import LogisticRegression\n",
    "from sklearn.ensemble import RandomForestClassifier\n",
    "from sklearn.model_selection import GridSearchCV\n",
    "from sklearn.tree import DecisionTreeClassifier\n",
    "from sklearn.svm import SVC\n",
    "import matplotlib.pyplot as plt\n",
    "import seaborn as sns \n",
    "import pandas as pd\n",
    "import numpy as np"
   ]
  },
  {
   "cell_type": "code",
   "execution_count": 2,
   "id": "ac31c820",
   "metadata": {},
   "outputs": [],
   "source": [
    "df = pd.read_csv(\"Desktop/Breast_Cancer_Dataset_prepared.csv\")"
   ]
  },
  {
   "cell_type": "code",
   "execution_count": 3,
   "id": "ad5815bb",
   "metadata": {},
   "outputs": [
    {
     "data": {
      "text/html": [
       "<div>\n",
       "<style scoped>\n",
       "    .dataframe tbody tr th:only-of-type {\n",
       "        vertical-align: middle;\n",
       "    }\n",
       "\n",
       "    .dataframe tbody tr th {\n",
       "        vertical-align: top;\n",
       "    }\n",
       "\n",
       "    .dataframe thead th {\n",
       "        text-align: right;\n",
       "    }\n",
       "</style>\n",
       "<table border=\"1\" class=\"dataframe\">\n",
       "  <thead>\n",
       "    <tr style=\"text-align: right;\">\n",
       "      <th></th>\n",
       "      <th>Unnamed: 0</th>\n",
       "      <th>Age</th>\n",
       "      <th>T Stage</th>\n",
       "      <th>N Stage</th>\n",
       "      <th>6th Stage</th>\n",
       "      <th>Grade</th>\n",
       "      <th>Tumor Size</th>\n",
       "      <th>Regional Node Examined</th>\n",
       "      <th>Reginol Node Positive</th>\n",
       "      <th>Survival Months</th>\n",
       "      <th>...</th>\n",
       "      <th>Marital Status_Married (including common law)</th>\n",
       "      <th>Marital Status_Separated</th>\n",
       "      <th>Marital Status_Single (never married)</th>\n",
       "      <th>Marital Status_Widowed</th>\n",
       "      <th>A Stage_Distant</th>\n",
       "      <th>A Stage_Regional</th>\n",
       "      <th>Estrogen Status_Negative</th>\n",
       "      <th>Estrogen Status_Positive</th>\n",
       "      <th>Progesterone Status_Negative</th>\n",
       "      <th>Progesterone Status_Positive</th>\n",
       "    </tr>\n",
       "  </thead>\n",
       "  <tbody>\n",
       "    <tr>\n",
       "      <th>0</th>\n",
       "      <td>0</td>\n",
       "      <td>-1.224296</td>\n",
       "      <td>1</td>\n",
       "      <td>2</td>\n",
       "      <td>4</td>\n",
       "      <td>1</td>\n",
       "      <td>1.019503</td>\n",
       "      <td>1.029619</td>\n",
       "      <td>1.252763</td>\n",
       "      <td>0.002350</td>\n",
       "      <td>...</td>\n",
       "      <td>1</td>\n",
       "      <td>0</td>\n",
       "      <td>0</td>\n",
       "      <td>0</td>\n",
       "      <td>0</td>\n",
       "      <td>1</td>\n",
       "      <td>0</td>\n",
       "      <td>1</td>\n",
       "      <td>0</td>\n",
       "      <td>1</td>\n",
       "    </tr>\n",
       "    <tr>\n",
       "      <th>1</th>\n",
       "      <td>1</td>\n",
       "      <td>-0.777968</td>\n",
       "      <td>1</td>\n",
       "      <td>1</td>\n",
       "      <td>2</td>\n",
       "      <td>1</td>\n",
       "      <td>1.098309</td>\n",
       "      <td>1.223775</td>\n",
       "      <td>1.098612</td>\n",
       "      <td>0.031271</td>\n",
       "      <td>...</td>\n",
       "      <td>1</td>\n",
       "      <td>0</td>\n",
       "      <td>0</td>\n",
       "      <td>0</td>\n",
       "      <td>0</td>\n",
       "      <td>1</td>\n",
       "      <td>0</td>\n",
       "      <td>1</td>\n",
       "      <td>0</td>\n",
       "      <td>1</td>\n",
       "    </tr>\n",
       "    <tr>\n",
       "      <th>2</th>\n",
       "      <td>2</td>\n",
       "      <td>1.453671</td>\n",
       "      <td>1</td>\n",
       "      <td>0</td>\n",
       "      <td>1</td>\n",
       "      <td>2</td>\n",
       "      <td>0.737164</td>\n",
       "      <td>0.262364</td>\n",
       "      <td>0.000000</td>\n",
       "      <td>0.031271</td>\n",
       "      <td>...</td>\n",
       "      <td>1</td>\n",
       "      <td>0</td>\n",
       "      <td>0</td>\n",
       "      <td>0</td>\n",
       "      <td>0</td>\n",
       "      <td>1</td>\n",
       "      <td>0</td>\n",
       "      <td>1</td>\n",
       "      <td>0</td>\n",
       "      <td>1</td>\n",
       "    </tr>\n",
       "    <tr>\n",
       "      <th>3</th>\n",
       "      <td>3</td>\n",
       "      <td>-0.889550</td>\n",
       "      <td>0</td>\n",
       "      <td>0</td>\n",
       "      <td>0</td>\n",
       "      <td>1</td>\n",
       "      <td>0.597337</td>\n",
       "      <td>1.252763</td>\n",
       "      <td>0.000000</td>\n",
       "      <td>0.031271</td>\n",
       "      <td>...</td>\n",
       "      <td>0</td>\n",
       "      <td>0</td>\n",
       "      <td>0</td>\n",
       "      <td>0</td>\n",
       "      <td>0</td>\n",
       "      <td>1</td>\n",
       "      <td>0</td>\n",
       "      <td>1</td>\n",
       "      <td>0</td>\n",
       "      <td>1</td>\n",
       "    </tr>\n",
       "    <tr>\n",
       "      <th>4</th>\n",
       "      <td>4</td>\n",
       "      <td>1.007343</td>\n",
       "      <td>1</td>\n",
       "      <td>1</td>\n",
       "      <td>2</td>\n",
       "      <td>1</td>\n",
       "      <td>0.933952</td>\n",
       "      <td>1.098612</td>\n",
       "      <td>0.693147</td>\n",
       "      <td>0.059378</td>\n",
       "      <td>...</td>\n",
       "      <td>1</td>\n",
       "      <td>0</td>\n",
       "      <td>0</td>\n",
       "      <td>0</td>\n",
       "      <td>0</td>\n",
       "      <td>1</td>\n",
       "      <td>0</td>\n",
       "      <td>1</td>\n",
       "      <td>0</td>\n",
       "      <td>1</td>\n",
       "    </tr>\n",
       "  </tbody>\n",
       "</table>\n",
       "<p>5 rows × 25 columns</p>\n",
       "</div>"
      ],
      "text/plain": [
       "   Unnamed: 0       Age  T Stage   N Stage  6th Stage  Grade  Tumor Size  \\\n",
       "0           0 -1.224296         1        2          4      1    1.019503   \n",
       "1           1 -0.777968         1        1          2      1    1.098309   \n",
       "2           2  1.453671         1        0          1      2    0.737164   \n",
       "3           3 -0.889550         0        0          0      1    0.597337   \n",
       "4           4  1.007343         1        1          2      1    0.933952   \n",
       "\n",
       "   Regional Node Examined  Reginol Node Positive  Survival Months  ...  \\\n",
       "0                1.029619               1.252763         0.002350  ...   \n",
       "1                1.223775               1.098612         0.031271  ...   \n",
       "2                0.262364               0.000000         0.031271  ...   \n",
       "3                1.252763               0.000000         0.031271  ...   \n",
       "4                1.098612               0.693147         0.059378  ...   \n",
       "\n",
       "   Marital Status_Married (including common law)  Marital Status_Separated  \\\n",
       "0                                              1                         0   \n",
       "1                                              1                         0   \n",
       "2                                              1                         0   \n",
       "3                                              0                         0   \n",
       "4                                              1                         0   \n",
       "\n",
       "   Marital Status_Single (never married)  Marital Status_Widowed  \\\n",
       "0                                      0                       0   \n",
       "1                                      0                       0   \n",
       "2                                      0                       0   \n",
       "3                                      0                       0   \n",
       "4                                      0                       0   \n",
       "\n",
       "   A Stage_Distant  A Stage_Regional  Estrogen Status_Negative  \\\n",
       "0                0                 1                         0   \n",
       "1                0                 1                         0   \n",
       "2                0                 1                         0   \n",
       "3                0                 1                         0   \n",
       "4                0                 1                         0   \n",
       "\n",
       "   Estrogen Status_Positive  Progesterone Status_Negative  \\\n",
       "0                         1                             0   \n",
       "1                         1                             0   \n",
       "2                         1                             0   \n",
       "3                         1                             0   \n",
       "4                         1                             0   \n",
       "\n",
       "   Progesterone Status_Positive  \n",
       "0                             1  \n",
       "1                             1  \n",
       "2                             1  \n",
       "3                             1  \n",
       "4                             1  \n",
       "\n",
       "[5 rows x 25 columns]"
      ]
     },
     "execution_count": 3,
     "metadata": {},
     "output_type": "execute_result"
    }
   ],
   "source": [
    "df.head()"
   ]
  },
  {
   "cell_type": "code",
   "execution_count": 4,
   "id": "7e398cff",
   "metadata": {},
   "outputs": [
    {
     "data": {
      "text/html": [
       "<div>\n",
       "<style scoped>\n",
       "    .dataframe tbody tr th:only-of-type {\n",
       "        vertical-align: middle;\n",
       "    }\n",
       "\n",
       "    .dataframe tbody tr th {\n",
       "        vertical-align: top;\n",
       "    }\n",
       "\n",
       "    .dataframe thead th {\n",
       "        text-align: right;\n",
       "    }\n",
       "</style>\n",
       "<table border=\"1\" class=\"dataframe\">\n",
       "  <thead>\n",
       "    <tr style=\"text-align: right;\">\n",
       "      <th></th>\n",
       "      <th>Unnamed: 0</th>\n",
       "      <th>Age</th>\n",
       "      <th>T Stage</th>\n",
       "      <th>N Stage</th>\n",
       "      <th>6th Stage</th>\n",
       "      <th>Grade</th>\n",
       "      <th>Tumor Size</th>\n",
       "      <th>Regional Node Examined</th>\n",
       "      <th>Reginol Node Positive</th>\n",
       "      <th>Survival Months</th>\n",
       "      <th>...</th>\n",
       "      <th>Marital Status_Married (including common law)</th>\n",
       "      <th>Marital Status_Separated</th>\n",
       "      <th>Marital Status_Single (never married)</th>\n",
       "      <th>Marital Status_Widowed</th>\n",
       "      <th>A Stage_Distant</th>\n",
       "      <th>A Stage_Regional</th>\n",
       "      <th>Estrogen Status_Negative</th>\n",
       "      <th>Estrogen Status_Positive</th>\n",
       "      <th>Progesterone Status_Negative</th>\n",
       "      <th>Progesterone Status_Positive</th>\n",
       "    </tr>\n",
       "  </thead>\n",
       "  <tbody>\n",
       "    <tr>\n",
       "      <th>4019</th>\n",
       "      <td>4019</td>\n",
       "      <td>-0.220058</td>\n",
       "      <td>0</td>\n",
       "      <td>0</td>\n",
       "      <td>0</td>\n",
       "      <td>0</td>\n",
       "      <td>0.342299</td>\n",
       "      <td>1.029619e+00</td>\n",
       "      <td>0.000000</td>\n",
       "      <td>1.415853</td>\n",
       "      <td>...</td>\n",
       "      <td>1</td>\n",
       "      <td>0</td>\n",
       "      <td>0</td>\n",
       "      <td>0</td>\n",
       "      <td>0</td>\n",
       "      <td>1</td>\n",
       "      <td>0</td>\n",
       "      <td>1</td>\n",
       "      <td>0</td>\n",
       "      <td>1</td>\n",
       "    </tr>\n",
       "    <tr>\n",
       "      <th>4020</th>\n",
       "      <td>4020</td>\n",
       "      <td>-0.108476</td>\n",
       "      <td>0</td>\n",
       "      <td>1</td>\n",
       "      <td>2</td>\n",
       "      <td>2</td>\n",
       "      <td>0.309488</td>\n",
       "      <td>7.884574e-01</td>\n",
       "      <td>0.693147</td>\n",
       "      <td>1.415853</td>\n",
       "      <td>...</td>\n",
       "      <td>1</td>\n",
       "      <td>0</td>\n",
       "      <td>0</td>\n",
       "      <td>0</td>\n",
       "      <td>0</td>\n",
       "      <td>1</td>\n",
       "      <td>1</td>\n",
       "      <td>0</td>\n",
       "      <td>1</td>\n",
       "      <td>0</td>\n",
       "    </tr>\n",
       "    <tr>\n",
       "      <th>4021</th>\n",
       "      <td>4021</td>\n",
       "      <td>-0.108476</td>\n",
       "      <td>0</td>\n",
       "      <td>0</td>\n",
       "      <td>0</td>\n",
       "      <td>1</td>\n",
       "      <td>0.309488</td>\n",
       "      <td>2.623643e-01</td>\n",
       "      <td>0.223144</td>\n",
       "      <td>1.415853</td>\n",
       "      <td>...</td>\n",
       "      <td>0</td>\n",
       "      <td>0</td>\n",
       "      <td>0</td>\n",
       "      <td>0</td>\n",
       "      <td>0</td>\n",
       "      <td>1</td>\n",
       "      <td>1</td>\n",
       "      <td>0</td>\n",
       "      <td>1</td>\n",
       "      <td>0</td>\n",
       "    </tr>\n",
       "    <tr>\n",
       "      <th>4022</th>\n",
       "      <td>4022</td>\n",
       "      <td>0.672598</td>\n",
       "      <td>0</td>\n",
       "      <td>0</td>\n",
       "      <td>0</td>\n",
       "      <td>1</td>\n",
       "      <td>0.309488</td>\n",
       "      <td>8.329091e-01</td>\n",
       "      <td>0.223144</td>\n",
       "      <td>1.415853</td>\n",
       "      <td>...</td>\n",
       "      <td>1</td>\n",
       "      <td>0</td>\n",
       "      <td>0</td>\n",
       "      <td>0</td>\n",
       "      <td>0</td>\n",
       "      <td>1</td>\n",
       "      <td>0</td>\n",
       "      <td>1</td>\n",
       "      <td>0</td>\n",
       "      <td>1</td>\n",
       "    </tr>\n",
       "    <tr>\n",
       "      <th>4023</th>\n",
       "      <td>4023</td>\n",
       "      <td>0.895761</td>\n",
       "      <td>0</td>\n",
       "      <td>0</td>\n",
       "      <td>0</td>\n",
       "      <td>1</td>\n",
       "      <td>0.275563</td>\n",
       "      <td>-2.220446e-16</td>\n",
       "      <td>0.000000</td>\n",
       "      <td>1.415853</td>\n",
       "      <td>...</td>\n",
       "      <td>0</td>\n",
       "      <td>0</td>\n",
       "      <td>0</td>\n",
       "      <td>0</td>\n",
       "      <td>0</td>\n",
       "      <td>1</td>\n",
       "      <td>0</td>\n",
       "      <td>1</td>\n",
       "      <td>0</td>\n",
       "      <td>1</td>\n",
       "    </tr>\n",
       "  </tbody>\n",
       "</table>\n",
       "<p>5 rows × 25 columns</p>\n",
       "</div>"
      ],
      "text/plain": [
       "      Unnamed: 0       Age  T Stage   N Stage  6th Stage  Grade  Tumor Size  \\\n",
       "4019        4019 -0.220058         0        0          0      0    0.342299   \n",
       "4020        4020 -0.108476         0        1          2      2    0.309488   \n",
       "4021        4021 -0.108476         0        0          0      1    0.309488   \n",
       "4022        4022  0.672598         0        0          0      1    0.309488   \n",
       "4023        4023  0.895761         0        0          0      1    0.275563   \n",
       "\n",
       "      Regional Node Examined  Reginol Node Positive  Survival Months  ...  \\\n",
       "4019            1.029619e+00               0.000000         1.415853  ...   \n",
       "4020            7.884574e-01               0.693147         1.415853  ...   \n",
       "4021            2.623643e-01               0.223144         1.415853  ...   \n",
       "4022            8.329091e-01               0.223144         1.415853  ...   \n",
       "4023           -2.220446e-16               0.000000         1.415853  ...   \n",
       "\n",
       "      Marital Status_Married (including common law)  Marital Status_Separated  \\\n",
       "4019                                              1                         0   \n",
       "4020                                              1                         0   \n",
       "4021                                              0                         0   \n",
       "4022                                              1                         0   \n",
       "4023                                              0                         0   \n",
       "\n",
       "      Marital Status_Single (never married)  Marital Status_Widowed  \\\n",
       "4019                                      0                       0   \n",
       "4020                                      0                       0   \n",
       "4021                                      0                       0   \n",
       "4022                                      0                       0   \n",
       "4023                                      0                       0   \n",
       "\n",
       "      A Stage_Distant  A Stage_Regional  Estrogen Status_Negative  \\\n",
       "4019                0                 1                         0   \n",
       "4020                0                 1                         1   \n",
       "4021                0                 1                         1   \n",
       "4022                0                 1                         0   \n",
       "4023                0                 1                         0   \n",
       "\n",
       "      Estrogen Status_Positive  Progesterone Status_Negative  \\\n",
       "4019                         1                             0   \n",
       "4020                         0                             1   \n",
       "4021                         0                             1   \n",
       "4022                         1                             0   \n",
       "4023                         1                             0   \n",
       "\n",
       "      Progesterone Status_Positive  \n",
       "4019                             1  \n",
       "4020                             0  \n",
       "4021                             0  \n",
       "4022                             1  \n",
       "4023                             1  \n",
       "\n",
       "[5 rows x 25 columns]"
      ]
     },
     "execution_count": 4,
     "metadata": {},
     "output_type": "execute_result"
    }
   ],
   "source": [
    "df.tail()"
   ]
  },
  {
   "cell_type": "code",
   "execution_count": 5,
   "id": "9c29b54a",
   "metadata": {},
   "outputs": [
    {
     "data": {
      "text/html": [
       "<div>\n",
       "<style scoped>\n",
       "    .dataframe tbody tr th:only-of-type {\n",
       "        vertical-align: middle;\n",
       "    }\n",
       "\n",
       "    .dataframe tbody tr th {\n",
       "        vertical-align: top;\n",
       "    }\n",
       "\n",
       "    .dataframe thead th {\n",
       "        text-align: right;\n",
       "    }\n",
       "</style>\n",
       "<table border=\"1\" class=\"dataframe\">\n",
       "  <thead>\n",
       "    <tr style=\"text-align: right;\">\n",
       "      <th></th>\n",
       "      <th>Age</th>\n",
       "      <th>T Stage</th>\n",
       "      <th>N Stage</th>\n",
       "      <th>6th Stage</th>\n",
       "      <th>Grade</th>\n",
       "      <th>Tumor Size</th>\n",
       "      <th>Regional Node Examined</th>\n",
       "      <th>Reginol Node Positive</th>\n",
       "      <th>Survival Months</th>\n",
       "      <th>Status</th>\n",
       "      <th>...</th>\n",
       "      <th>Marital Status_Married (including common law)</th>\n",
       "      <th>Marital Status_Separated</th>\n",
       "      <th>Marital Status_Single (never married)</th>\n",
       "      <th>Marital Status_Widowed</th>\n",
       "      <th>A Stage_Distant</th>\n",
       "      <th>A Stage_Regional</th>\n",
       "      <th>Estrogen Status_Negative</th>\n",
       "      <th>Estrogen Status_Positive</th>\n",
       "      <th>Progesterone Status_Negative</th>\n",
       "      <th>Progesterone Status_Positive</th>\n",
       "    </tr>\n",
       "  </thead>\n",
       "  <tbody>\n",
       "    <tr>\n",
       "      <th>4019</th>\n",
       "      <td>-0.220058</td>\n",
       "      <td>0</td>\n",
       "      <td>0</td>\n",
       "      <td>0</td>\n",
       "      <td>0</td>\n",
       "      <td>0.342299</td>\n",
       "      <td>1.029619e+00</td>\n",
       "      <td>0.000000</td>\n",
       "      <td>1.415853</td>\n",
       "      <td>0</td>\n",
       "      <td>...</td>\n",
       "      <td>1</td>\n",
       "      <td>0</td>\n",
       "      <td>0</td>\n",
       "      <td>0</td>\n",
       "      <td>0</td>\n",
       "      <td>1</td>\n",
       "      <td>0</td>\n",
       "      <td>1</td>\n",
       "      <td>0</td>\n",
       "      <td>1</td>\n",
       "    </tr>\n",
       "    <tr>\n",
       "      <th>4020</th>\n",
       "      <td>-0.108476</td>\n",
       "      <td>0</td>\n",
       "      <td>1</td>\n",
       "      <td>2</td>\n",
       "      <td>2</td>\n",
       "      <td>0.309488</td>\n",
       "      <td>7.884574e-01</td>\n",
       "      <td>0.693147</td>\n",
       "      <td>1.415853</td>\n",
       "      <td>0</td>\n",
       "      <td>...</td>\n",
       "      <td>1</td>\n",
       "      <td>0</td>\n",
       "      <td>0</td>\n",
       "      <td>0</td>\n",
       "      <td>0</td>\n",
       "      <td>1</td>\n",
       "      <td>1</td>\n",
       "      <td>0</td>\n",
       "      <td>1</td>\n",
       "      <td>0</td>\n",
       "    </tr>\n",
       "    <tr>\n",
       "      <th>4021</th>\n",
       "      <td>-0.108476</td>\n",
       "      <td>0</td>\n",
       "      <td>0</td>\n",
       "      <td>0</td>\n",
       "      <td>1</td>\n",
       "      <td>0.309488</td>\n",
       "      <td>2.623643e-01</td>\n",
       "      <td>0.223144</td>\n",
       "      <td>1.415853</td>\n",
       "      <td>0</td>\n",
       "      <td>...</td>\n",
       "      <td>0</td>\n",
       "      <td>0</td>\n",
       "      <td>0</td>\n",
       "      <td>0</td>\n",
       "      <td>0</td>\n",
       "      <td>1</td>\n",
       "      <td>1</td>\n",
       "      <td>0</td>\n",
       "      <td>1</td>\n",
       "      <td>0</td>\n",
       "    </tr>\n",
       "    <tr>\n",
       "      <th>4022</th>\n",
       "      <td>0.672598</td>\n",
       "      <td>0</td>\n",
       "      <td>0</td>\n",
       "      <td>0</td>\n",
       "      <td>1</td>\n",
       "      <td>0.309488</td>\n",
       "      <td>8.329091e-01</td>\n",
       "      <td>0.223144</td>\n",
       "      <td>1.415853</td>\n",
       "      <td>0</td>\n",
       "      <td>...</td>\n",
       "      <td>1</td>\n",
       "      <td>0</td>\n",
       "      <td>0</td>\n",
       "      <td>0</td>\n",
       "      <td>0</td>\n",
       "      <td>1</td>\n",
       "      <td>0</td>\n",
       "      <td>1</td>\n",
       "      <td>0</td>\n",
       "      <td>1</td>\n",
       "    </tr>\n",
       "    <tr>\n",
       "      <th>4023</th>\n",
       "      <td>0.895761</td>\n",
       "      <td>0</td>\n",
       "      <td>0</td>\n",
       "      <td>0</td>\n",
       "      <td>1</td>\n",
       "      <td>0.275563</td>\n",
       "      <td>-2.220446e-16</td>\n",
       "      <td>0.000000</td>\n",
       "      <td>1.415853</td>\n",
       "      <td>0</td>\n",
       "      <td>...</td>\n",
       "      <td>0</td>\n",
       "      <td>0</td>\n",
       "      <td>0</td>\n",
       "      <td>0</td>\n",
       "      <td>0</td>\n",
       "      <td>1</td>\n",
       "      <td>0</td>\n",
       "      <td>1</td>\n",
       "      <td>0</td>\n",
       "      <td>1</td>\n",
       "    </tr>\n",
       "  </tbody>\n",
       "</table>\n",
       "<p>5 rows × 24 columns</p>\n",
       "</div>"
      ],
      "text/plain": [
       "           Age  T Stage   N Stage  6th Stage  Grade  Tumor Size  \\\n",
       "4019 -0.220058         0        0          0      0    0.342299   \n",
       "4020 -0.108476         0        1          2      2    0.309488   \n",
       "4021 -0.108476         0        0          0      1    0.309488   \n",
       "4022  0.672598         0        0          0      1    0.309488   \n",
       "4023  0.895761         0        0          0      1    0.275563   \n",
       "\n",
       "      Regional Node Examined  Reginol Node Positive  Survival Months  Status  \\\n",
       "4019            1.029619e+00               0.000000         1.415853       0   \n",
       "4020            7.884574e-01               0.693147         1.415853       0   \n",
       "4021            2.623643e-01               0.223144         1.415853       0   \n",
       "4022            8.329091e-01               0.223144         1.415853       0   \n",
       "4023           -2.220446e-16               0.000000         1.415853       0   \n",
       "\n",
       "      ...  Marital Status_Married (including common law)  \\\n",
       "4019  ...                                              1   \n",
       "4020  ...                                              1   \n",
       "4021  ...                                              0   \n",
       "4022  ...                                              1   \n",
       "4023  ...                                              0   \n",
       "\n",
       "      Marital Status_Separated  Marital Status_Single (never married)  \\\n",
       "4019                         0                                      0   \n",
       "4020                         0                                      0   \n",
       "4021                         0                                      0   \n",
       "4022                         0                                      0   \n",
       "4023                         0                                      0   \n",
       "\n",
       "      Marital Status_Widowed  A Stage_Distant  A Stage_Regional  \\\n",
       "4019                       0                0                 1   \n",
       "4020                       0                0                 1   \n",
       "4021                       0                0                 1   \n",
       "4022                       0                0                 1   \n",
       "4023                       0                0                 1   \n",
       "\n",
       "      Estrogen Status_Negative  Estrogen Status_Positive  \\\n",
       "4019                         0                         1   \n",
       "4020                         1                         0   \n",
       "4021                         1                         0   \n",
       "4022                         0                         1   \n",
       "4023                         0                         1   \n",
       "\n",
       "      Progesterone Status_Negative  Progesterone Status_Positive  \n",
       "4019                             0                             1  \n",
       "4020                             1                             0  \n",
       "4021                             1                             0  \n",
       "4022                             0                             1  \n",
       "4023                             0                             1  \n",
       "\n",
       "[5 rows x 24 columns]"
      ]
     },
     "execution_count": 5,
     "metadata": {},
     "output_type": "execute_result"
    }
   ],
   "source": [
    "df.drop('Unnamed: 0', axis=1, inplace=True)\n",
    "df.tail()"
   ]
  },
  {
   "cell_type": "markdown",
   "id": "cf6a7ef3",
   "metadata": {},
   "source": [
    "## B. Splitting Dataset into Train and Test Data"
   ]
  },
  {
   "cell_type": "markdown",
   "id": "3ce4eaa7",
   "metadata": {},
   "source": [
    "We will split the features and outcomes into training and test data using the following code."
   ]
  },
  {
   "cell_type": "code",
   "execution_count": 6,
   "id": "44417213",
   "metadata": {},
   "outputs": [],
   "source": [
    "y = df['Status']\n",
    "X = df.drop('Status', axis=1)"
   ]
  },
  {
   "cell_type": "code",
   "execution_count": 7,
   "id": "b08a921b",
   "metadata": {},
   "outputs": [],
   "source": [
    "X_train, X_test, y_train, y_test = train_test_split(X, y, test_size=0.2, shuffle=True, stratify=y)"
   ]
  },
  {
   "cell_type": "markdown",
   "id": "2bd2a198",
   "metadata": {},
   "source": [
    "## C. Model Development"
   ]
  },
  {
   "cell_type": "markdown",
   "id": "93d52c6a",
   "metadata": {},
   "source": [
    "### 1. Logisitc Regression"
   ]
  },
  {
   "cell_type": "markdown",
   "id": "5b234fc2",
   "metadata": {},
   "source": [
    "By default, the solver is equal to **lbfgs**. But since it is not a small dataset, we will choose **sag** and **saga** as solver.  The default max_iter is equal to 100. We will increase the max_iter to 10000. Thereore, we will instantiate a Logistic Regression Model with the following code."
   ]
  },
  {
   "cell_type": "code",
   "execution_count": 8,
   "id": "e753255c",
   "metadata": {},
   "outputs": [],
   "source": [
    "lr = LogisticRegression(solver='saga',max_iter=10000)"
   ]
  },
  {
   "cell_type": "markdown",
   "id": "af0162eb",
   "metadata": {},
   "source": [
    "We will fit the Logistic Regression Model to the training data using the following code."
   ]
  },
  {
   "cell_type": "code",
   "execution_count": 9,
   "id": "ed84c0e1",
   "metadata": {},
   "outputs": [
    {
     "data": {
      "text/plain": [
       "LogisticRegression(max_iter=10000, solver='saga')"
      ]
     },
     "execution_count": 9,
     "metadata": {},
     "output_type": "execute_result"
    }
   ],
   "source": [
    "lr.fit(X_train, y_train)"
   ]
  },
  {
   "cell_type": "markdown",
   "id": "d04ee925",
   "metadata": {},
   "source": [
    "We will get the intercept using the following code."
   ]
  },
  {
   "cell_type": "code",
   "execution_count": 10,
   "id": "be93988a",
   "metadata": {},
   "outputs": [
    {
     "name": "stdout",
     "output_type": "stream",
     "text": [
      "[2.86225191]\n"
     ]
    }
   ],
   "source": [
    "intercept = lr.intercept_\n",
    "print(intercept)"
   ]
  },
  {
   "cell_type": "markdown",
   "id": "7f665507",
   "metadata": {},
   "source": [
    "The intercept term in the model output represent the log odds of the response variable occurring when all predictor variables are equal to zero. This means that when Age is equal to zero, when T Stage is equal to zero, and so on, the log odds whether a patient is alive or dead are 2.39."
   ]
  },
  {
   "cell_type": "markdown",
   "id": "3b6ada51",
   "metadata": {},
   "source": [
    "We will extract the coefficients using the following code."
   ]
  },
  {
   "cell_type": "code",
   "execution_count": 11,
   "id": "222d7a12",
   "metadata": {},
   "outputs": [],
   "source": [
    "coefficients = lr.coef_"
   ]
  },
  {
   "cell_type": "markdown",
   "id": "442b9f79",
   "metadata": {},
   "source": [
    "We will place the coefficients into list as follows."
   ]
  },
  {
   "cell_type": "code",
   "execution_count": 12,
   "id": "48cb4ae2",
   "metadata": {},
   "outputs": [],
   "source": [
    "coef_list = list(coefficients[0,:])"
   ]
  },
  {
   "cell_type": "markdown",
   "id": "88967e05",
   "metadata": {},
   "source": [
    "We will match the features to their contributions, place them in a DataFrame, and print the DataFrame."
   ]
  },
  {
   "cell_type": "code",
   "execution_count": 13,
   "id": "31ff4c72",
   "metadata": {},
   "outputs": [
    {
     "name": "stdout",
     "output_type": "stream",
     "text": [
      "                                              Feature  Coefficients\n",
      "0                                                 Age      0.254057\n",
      "1                                            T Stage       0.469958\n",
      "2                                             N Stage      0.249129\n",
      "3                                           6th Stage     -0.061711\n",
      "4                                               Grade      0.552821\n",
      "5                                          Tumor Size     -0.417827\n",
      "6                              Regional Node Examined     -0.625846\n",
      "7                               Reginol Node Positive      0.887421\n",
      "8                                     Survival Months     -5.061648\n",
      "9                                         Race _Black      0.590920\n",
      "10  Race _Other (American Indian/AK Native, Asian/...     -0.608368\n",
      "11                                        Race _White      0.100413\n",
      "12                            Marital Status_Divorced     -0.163469\n",
      "13      Marital Status_Married (including common law)     -0.309771\n",
      "14                           Marital Status_Separated      0.729371\n",
      "15              Marital Status_Single (never married)     -0.166066\n",
      "16                             Marital Status_Widowed     -0.007101\n",
      "17                                    A Stage_Distant      0.067354\n",
      "18                                   A Stage_Regional      0.015611\n",
      "19                           Estrogen Status_Negative      0.154961\n",
      "20                           Estrogen Status_Positive     -0.071997\n",
      "21                       Progesterone Status_Negative      0.297313\n",
      "22                       Progesterone Status_Positive     -0.214349\n"
     ]
    }
   ],
   "source": [
    "coef_df = pd.DataFrame({'Feature': list(X_train.columns), \n",
    "                       'Coefficients': coef_list })\n",
    "print(coef_df)"
   ]
  },
  {
   "cell_type": "markdown",
   "id": "9189c4fd",
   "metadata": {},
   "source": [
    "The coefficient for T Stage can be interpreted as for every degree increase in Tumor Size, the log odds of status increase by 0.05."
   ]
  },
  {
   "cell_type": "code",
   "execution_count": 14,
   "id": "ebd6a06f",
   "metadata": {},
   "outputs": [
    {
     "data": {
      "text/plain": [
       "<AxesSubplot:ylabel='Feature'>"
      ]
     },
     "execution_count": 14,
     "metadata": {},
     "output_type": "execute_result"
    },
    {
     "data": {
      "image/png": "[encoded data removed]",
      "text/plain": [
       "<Figure size 1000x600 with 1 Axes>"
      ]
     },
     "metadata": {},
     "output_type": "display_data"
    }
   ],
   "source": [
    "feature_importance = pd.DataFrame({'Feature': X_train.columns, 'Importance': coef_list })\n",
    "feature_importance = feature_importance.sort_values('Importance', ascending=True)\n",
    "feature_importance.plot(x='Feature', y='Importance', kind='barh', figsize=(10, 6))"
   ]
  },
  {
   "cell_type": "markdown",
   "id": "f35c0447",
   "metadata": {},
   "source": [
    "The coefficients represent the change in the log odds for one unit change in the predictor variable. Larger absolute values indicate a stronger relationship between the predictor and the target variable. According to this method, `Survival Months` and `Reginol Node Positive` are  the most important features."
   ]
  },
  {
   "cell_type": "markdown",
   "id": "ab54326c",
   "metadata": {},
   "source": [
    "We will generate predicted probabilities using the following code."
   ]
  },
  {
   "cell_type": "code",
   "execution_count": 15,
   "id": "d09ece1d",
   "metadata": {},
   "outputs": [],
   "source": [
    "predicted_prob = lr.predict_proba(X_test)[:,1]"
   ]
  },
  {
   "cell_type": "markdown",
   "id": "0a1cfa01",
   "metadata": {},
   "source": [
    "We will generate predicted classes using the following code."
   ]
  },
  {
   "cell_type": "code",
   "execution_count": 16,
   "id": "2a07c100",
   "metadata": {},
   "outputs": [],
   "source": [
    "predicted_class = lr.predict(X_test)"
   ]
  },
  {
   "cell_type": "markdown",
   "id": "ebaa1465",
   "metadata": {},
   "source": [
    "We will evaluate the performance using confsion matrix."
   ]
  },
  {
   "cell_type": "code",
   "execution_count": 17,
   "id": "a85f3c21",
   "metadata": {},
   "outputs": [
    {
     "name": "stdout",
     "output_type": "stream",
     "text": [
      "       Predicted Alive  Predicted Dead  Total\n",
      "Alive            660.0            22.0  682.0\n",
      "Dead              72.0            51.0  123.0\n",
      "Total           1364.0           246.0    NaN\n"
     ]
    }
   ],
   "source": [
    "cm = pd.DataFrame(confusion_matrix(y_test, predicted_class))\n",
    "cm['Total'] = np.sum(cm, axis = 1)\n",
    "cm = cm.append(np.sum(cm, axis=1), ignore_index=True)\n",
    "cm.columns = ['Predicted Alive','Predicted Dead','Total']\n",
    "cm = cm.set_index([['Alive','Dead','Total']])\n",
    "print(cm)"
   ]
  },
  {
   "cell_type": "markdown",
   "id": "7a8dc4f4",
   "metadata": {},
   "source": [
    "From the confusion matrix, we can see that 682 observations that were classified as alive, 667 were classified correctly, and of the 123 observations that were classified as dead, 53 were correctly classified."
   ]
  },
  {
   "cell_type": "markdown",
   "id": "825eed6c",
   "metadata": {},
   "source": [
    "We will generate a classification report using the following code."
   ]
  },
  {
   "cell_type": "code",
   "execution_count": 18,
   "id": "448644a5",
   "metadata": {},
   "outputs": [
    {
     "name": "stdout",
     "output_type": "stream",
     "text": [
      "              precision    recall  f1-score   support\n",
      "\n",
      "           0       0.90      0.97      0.93       682\n",
      "           1       0.70      0.41      0.52       123\n",
      "\n",
      "    accuracy                           0.88       805\n",
      "   macro avg       0.80      0.69      0.73       805\n",
      "weighted avg       0.87      0.88      0.87       805\n",
      "\n"
     ]
    }
   ],
   "source": [
    "print(classification_report(y_test, predicted_class))"
   ]
  },
  {
   "cell_type": "markdown",
   "id": "b3785714",
   "metadata": {},
   "source": [
    "To tune the model, we will use skicit's learn grid search function, which fits a model for every combination of possible hyperparameter values and determines the value for each hyperparameter resulting in the best model. Since the solvers **sag** don't support l1 penalty, we will not use them. We will instantiate a grid of possible hyperparameters."
   ]
  },
  {
   "cell_type": "code",
   "execution_count": 19,
   "id": "e6662d66",
   "metadata": {},
   "outputs": [],
   "source": [
    "grid = {'penalty': ['l1','l2'],\n",
    "        'C': np.linspace(1,10,10),\n",
    "        'solver': ['liblinear'] }"
   ]
  },
  {
   "cell_type": "markdown",
   "id": "e7b58db5",
   "metadata": {},
   "source": [
    "We will instantiate a GridSearch model to find the model with the greatest f1 score (the harmonic average of precision and recall)."
   ]
  },
  {
   "cell_type": "code",
   "execution_count": 20,
   "id": "c95e59b7",
   "metadata": {},
   "outputs": [],
   "source": [
    "model_lr = GridSearchCV(LogisticRegression(), grid, scoring='f1', cv=5, error_score='raise')"
   ]
  },
  {
   "cell_type": "markdown",
   "id": "69271388",
   "metadata": {},
   "source": [
    "We will fit the model on the training data using the following code."
   ]
  },
  {
   "cell_type": "code",
   "execution_count": 21,
   "id": "041afd5d",
   "metadata": {},
   "outputs": [
    {
     "data": {
      "text/plain": [
       "GridSearchCV(cv=5, error_score='raise', estimator=LogisticRegression(),\n",
       "             param_grid={'C': array([ 1.,  2.,  3.,  4.,  5.,  6.,  7.,  8.,  9., 10.]),\n",
       "                         'penalty': ['l1', 'l2'], 'solver': ['liblinear']},\n",
       "             scoring='f1')"
      ]
     },
     "execution_count": 21,
     "metadata": {},
     "output_type": "execute_result"
    }
   ],
   "source": [
    "model_lr.fit(X_train, y_train)"
   ]
  },
  {
   "cell_type": "markdown",
   "id": "c04fa930",
   "metadata": {},
   "source": [
    "We can return the optimal combinations of hyperparameters as a dictionary as follows."
   ]
  },
  {
   "cell_type": "code",
   "execution_count": 22,
   "id": "8834dd45",
   "metadata": {},
   "outputs": [
    {
     "name": "stdout",
     "output_type": "stream",
     "text": [
      "{'C': 9.0, 'penalty': 'l1', 'solver': 'liblinear'}\n"
     ]
    }
   ],
   "source": [
    "best_parameters = model_lr.best_params_\n",
    "print(best_parameters)"
   ]
  },
  {
   "cell_type": "markdown",
   "id": "60397f93",
   "metadata": {},
   "source": [
    "We have found the hyperparameters that maximise the f1 score."
   ]
  },
  {
   "cell_type": "code",
   "execution_count": 23,
   "id": "07d8885a",
   "metadata": {},
   "outputs": [],
   "source": [
    "lr_optimised = LogisticRegression(C=9.0,penalty='l1',solver='liblinear')"
   ]
  },
  {
   "cell_type": "code",
   "execution_count": 24,
   "id": "b0ed1ea7",
   "metadata": {},
   "outputs": [
    {
     "data": {
      "text/plain": [
       "LogisticRegression(C=9.0, penalty='l1', solver='liblinear')"
      ]
     },
     "execution_count": 24,
     "metadata": {},
     "output_type": "execute_result"
    }
   ],
   "source": [
    "lr_optimised.fit(X_train, y_train)"
   ]
  },
  {
   "cell_type": "code",
   "execution_count": 25,
   "id": "153bf5d1",
   "metadata": {},
   "outputs": [],
   "source": [
    "lr_optimised_pred = lr_optimised.predict(X_test)"
   ]
  },
  {
   "cell_type": "code",
   "execution_count": 26,
   "id": "4c5e6369",
   "metadata": {},
   "outputs": [
    {
     "name": "stdout",
     "output_type": "stream",
     "text": [
      "       Predicted Alive  Predicted Dead  Total\n",
      "Alive            657.0            25.0  682.0\n",
      "Dead              71.0            52.0  123.0\n",
      "Total           1364.0           246.0    NaN\n"
     ]
    }
   ],
   "source": [
    "cm = pd.DataFrame(confusion_matrix(y_test, lr_optimised_pred))\n",
    "cm['Total'] = np.sum(cm, axis = 1)\n",
    "cm = cm.append(np.sum(cm, axis=1), ignore_index=True)\n",
    "cm.columns = ['Predicted Alive','Predicted Dead','Total']\n",
    "cm = cm.set_index([['Alive','Dead','Total']])\n",
    "print(cm)"
   ]
  },
  {
   "cell_type": "markdown",
   "id": "808dc1b6",
   "metadata": {},
   "source": [
    "From the confusion matrix, we can see that 682 observations that were classified as alive, 657 were classified correctly, and of the 123 observations that were classified as dead, 52 were correctly classified."
   ]
  },
  {
   "cell_type": "code",
   "execution_count": 27,
   "id": "bd5d1518",
   "metadata": {},
   "outputs": [
    {
     "name": "stdout",
     "output_type": "stream",
     "text": [
      "              precision    recall  f1-score   support\n",
      "\n",
      "           0       0.90      0.96      0.93       682\n",
      "           1       0.68      0.42      0.52       123\n",
      "\n",
      "    accuracy                           0.88       805\n",
      "   macro avg       0.79      0.69      0.73       805\n",
      "weighted avg       0.87      0.88      0.87       805\n",
      "\n"
     ]
    }
   ],
   "source": [
    "print(classification_report(y_test, lr_optimised_pred))"
   ]
  },
  {
   "cell_type": "markdown",
   "id": "68af2f34",
   "metadata": {},
   "source": [
    "### 2. DecisionTree Classifier"
   ]
  },
  {
   "cell_type": "markdown",
   "id": "5f5bca70",
   "metadata": {},
   "source": [
    "We will instantiate the Decision Tree Classifier using the following code."
   ]
  },
  {
   "cell_type": "code",
   "execution_count": 28,
   "id": "455a2b9b",
   "metadata": {},
   "outputs": [],
   "source": [
    "dt = DecisionTreeClassifier()"
   ]
  },
  {
   "cell_type": "markdown",
   "id": "32d28b04",
   "metadata": {},
   "source": [
    "We will fit the Decision Tree Classifier to the training data using the following code."
   ]
  },
  {
   "cell_type": "code",
   "execution_count": 29,
   "id": "aa4db2fe",
   "metadata": {},
   "outputs": [
    {
     "data": {
      "text/plain": [
       "DecisionTreeClassifier()"
      ]
     },
     "execution_count": 29,
     "metadata": {},
     "output_type": "execute_result"
    }
   ],
   "source": [
    "dt.fit(X_train, y_train)"
   ]
  },
  {
   "cell_type": "markdown",
   "id": "c9215adf",
   "metadata": {},
   "source": [
    "We will calculate the predicting accuracy for the training data."
   ]
  },
  {
   "cell_type": "code",
   "execution_count": 30,
   "id": "b5ba35ca",
   "metadata": {},
   "outputs": [],
   "source": [
    "dt_pred_train = dt.predict(X_train)"
   ]
  },
  {
   "cell_type": "markdown",
   "id": "c4e19d83",
   "metadata": {},
   "source": [
    "We will calculate the predicting accuracy for the test data."
   ]
  },
  {
   "cell_type": "code",
   "execution_count": 31,
   "id": "e342721a",
   "metadata": {},
   "outputs": [],
   "source": [
    "dt_pred_test = dt.predict(X_test)"
   ]
  },
  {
   "cell_type": "code",
   "execution_count": 32,
   "id": "b0677f8e",
   "metadata": {},
   "outputs": [
    {
     "name": "stdout",
     "output_type": "stream",
     "text": [
      "Decision Tree:\n",
      "> Accuracy on training data = 1.0000\n",
      "> Accuracy on validation data = 0.8497\n"
     ]
    }
   ],
   "source": [
    "print('Decision Tree:\\n> Accuracy on training data = {:.4f}\\n> Accuracy on validation data = {:.4f}'.format( accuracy_score(y_true=y_train, y_pred=dt_pred_train), accuracy_score(y_true=y_test, y_pred=dt_pred_test)))"
   ]
  },
  {
   "cell_type": "markdown",
   "id": "08cd434c",
   "metadata": {},
   "source": [
    "DecisionTree Classifier has much lower accuracy on test data than on training data."
   ]
  },
  {
   "cell_type": "code",
   "execution_count": 33,
   "id": "43282d2c",
   "metadata": {},
   "outputs": [
    {
     "name": "stdout",
     "output_type": "stream",
     "text": [
      "       Predicted Alive  Predicted Dead  Total\n",
      "Alive            623.0            59.0  682.0\n",
      "Dead              62.0            61.0  123.0\n",
      "Total           1364.0           246.0    NaN\n"
     ]
    }
   ],
   "source": [
    "cm = pd.DataFrame(confusion_matrix(y_test, dt_pred_test))\n",
    "cm['Total'] = np.sum(cm, axis = 1)\n",
    "cm = cm.append(np.sum(cm, axis=1), ignore_index=True)\n",
    "cm.columns = ['Predicted Alive','Predicted Dead','Total']\n",
    "cm = cm.set_index([['Alive','Dead','Total']])\n",
    "print(cm)"
   ]
  },
  {
   "cell_type": "markdown",
   "id": "223d3f98",
   "metadata": {},
   "source": [
    "From the confusion matrix, we can see that 682 observations that were classified as alive, 623 were classified correctly, and of the 123 observations that were classified as dead, 61 were correctly classified."
   ]
  },
  {
   "cell_type": "code",
   "execution_count": 34,
   "id": "7795df0f",
   "metadata": {},
   "outputs": [
    {
     "name": "stdout",
     "output_type": "stream",
     "text": [
      "              precision    recall  f1-score   support\n",
      "\n",
      "           0       0.91      0.91      0.91       682\n",
      "           1       0.51      0.50      0.50       123\n",
      "\n",
      "    accuracy                           0.85       805\n",
      "   macro avg       0.71      0.70      0.71       805\n",
      "weighted avg       0.85      0.85      0.85       805\n",
      "\n"
     ]
    }
   ],
   "source": [
    "print(classification_report(y_test, dt_pred_test))"
   ]
  },
  {
   "cell_type": "markdown",
   "id": "fc345858",
   "metadata": {},
   "source": [
    "We will instantiate a hyperparameter space and tune the hyperparameters  of a decision tree classifier using a grid search. We will specify the hyperparameter space as follows."
   ]
  },
  {
   "cell_type": "code",
   "execution_count": 35,
   "id": "59ec196a",
   "metadata": {},
   "outputs": [],
   "source": [
    "grid_dt = {'class_weight': ['balanced'],\n",
    "           'criterion': ['gini','entropy'],\n",
    "           'min_weight_fraction_leaf': np.linspace(0.0,0.5,10),\n",
    "           'min_impurity_decrease': np.linspace(0.0,1.0,10)}"
   ]
  },
  {
   "cell_type": "markdown",
   "id": "74f0c025",
   "metadata": {},
   "source": [
    "We will instantiate a grid search model using the following code."
   ]
  },
  {
   "cell_type": "code",
   "execution_count": 36,
   "id": "17f9748c",
   "metadata": {},
   "outputs": [],
   "source": [
    "model_dt = GridSearchCV(DecisionTreeClassifier(),grid_dt,scoring='f1',cv=5,error_score='raise')"
   ]
  },
  {
   "cell_type": "markdown",
   "id": "cf0a64a6",
   "metadata": {},
   "source": [
    "We will fit to the training dataset using the following code."
   ]
  },
  {
   "cell_type": "code",
   "execution_count": 37,
   "id": "4f9e2251",
   "metadata": {},
   "outputs": [
    {
     "data": {
      "text/plain": [
       "GridSearchCV(cv=5, error_score='raise', estimator=DecisionTreeClassifier(),\n",
       "             param_grid={'class_weight': ['balanced'],\n",
       "                         'criterion': ['gini', 'entropy'],\n",
       "                         'min_impurity_decrease': array([0.        , 0.11111111, 0.22222222, 0.33333333, 0.44444444,\n",
       "       0.55555556, 0.66666667, 0.77777778, 0.88888889, 1.        ]),\n",
       "                         'min_weight_fraction_leaf': array([0.        , 0.05555556, 0.11111111, 0.16666667, 0.22222222,\n",
       "       0.27777778, 0.33333333, 0.38888889, 0.44444444, 0.5       ])},\n",
       "             scoring='f1')"
      ]
     },
     "execution_count": 37,
     "metadata": {},
     "output_type": "execute_result"
    }
   ],
   "source": [
    "model_dt.fit(X_train,y_train)"
   ]
  },
  {
   "cell_type": "markdown",
   "id": "8befcb66",
   "metadata": {},
   "source": [
    "We will print the tuned parameters."
   ]
  },
  {
   "cell_type": "code",
   "execution_count": 38,
   "id": "8263783b",
   "metadata": {},
   "outputs": [
    {
     "name": "stdout",
     "output_type": "stream",
     "text": [
      "{'class_weight': 'balanced', 'criterion': 'entropy', 'min_impurity_decrease': 0.0, 'min_weight_fraction_leaf': 0.2222222222222222}\n"
     ]
    }
   ],
   "source": [
    "best_parameters = model_dt.best_params_\n",
    "print(best_parameters)"
   ]
  },
  {
   "cell_type": "markdown",
   "id": "ccbcda77",
   "metadata": {},
   "source": [
    "We will instantiate a decision tree classifier model and assign the values to the corresponding hyperparameters as follows."
   ]
  },
  {
   "cell_type": "code",
   "execution_count": 39,
   "id": "01358e01",
   "metadata": {},
   "outputs": [],
   "source": [
    "dt_optimised = DecisionTreeClassifier(class_weight=best_parameters['class_weight'],\n",
    "                                      criterion=best_parameters['criterion'],\n",
    "                                      min_impurity_decrease=best_parameters['min_impurity_decrease'],\n",
    "                                      min_weight_fraction_leaf=best_parameters['min_weight_fraction_leaf'])"
   ]
  },
  {
   "cell_type": "markdown",
   "id": "c9d2c01b",
   "metadata": {},
   "source": [
    "We will fit the grid search model to the training data."
   ]
  },
  {
   "cell_type": "code",
   "execution_count": 40,
   "id": "a2309bbc",
   "metadata": {},
   "outputs": [
    {
     "data": {
      "text/plain": [
       "DecisionTreeClassifier(class_weight='balanced', criterion='entropy',\n",
       "                       min_weight_fraction_leaf=0.2222222222222222)"
      ]
     },
     "execution_count": 40,
     "metadata": {},
     "output_type": "execute_result"
    }
   ],
   "source": [
    "dt_optimised.fit(X_train,y_train)"
   ]
  },
  {
   "cell_type": "markdown",
   "id": "a09e2fe1",
   "metadata": {},
   "source": [
    "We will explore the attribute feature_importances_, which returns an array containing values of relative feature importance for each feature. We will extract the feature_importances attribute using the following code."
   ]
  },
  {
   "cell_type": "code",
   "execution_count": 41,
   "id": "22ae04fe",
   "metadata": {},
   "outputs": [
    {
     "name": "stdout",
     "output_type": "stream",
     "text": [
      "[0. 0. 0. 0. 0. 0. 0. 0. 1. 0. 0. 0. 0. 0. 0. 0. 0. 0. 0. 0. 0. 0. 0.]\n"
     ]
    }
   ],
   "source": [
    "print(dt_optimised.feature_importances_)"
   ]
  },
  {
   "cell_type": "markdown",
   "id": "4550b4f4",
   "metadata": {},
   "source": [
    "We will visualise it using the following code."
   ]
  },
  {
   "cell_type": "code",
   "execution_count": 42,
   "id": "599d7b8f",
   "metadata": {},
   "outputs": [
    {
     "data": {
      "text/plain": [
       "<matplotlib.legend.Legend at 0x7f94c1543fd0>"
      ]
     },
     "execution_count": 42,
     "metadata": {},
     "output_type": "execute_result"
    },
    {
     "data": {
      "image/png": "[encoded data removed]",
      "text/plain": [
       "<Figure size 500x500 with 1 Axes>"
      ]
     },
     "metadata": {},
     "output_type": "display_data"
    }
   ],
   "source": [
    "dt_imp = pd.DataFrame({'Importance':list(dt_optimised.feature_importances_)},index=X.columns)\n",
    "dt_imp_sorted = dt_imp.sort_values(by=('Importance'),ascending=True)\n",
    "dt_imp_sorted.plot.barh(figsize=(5,5))\n",
    "plt.title('Relative Feature Importance')\n",
    "plt.xlabel('Relative Importance')\n",
    "plt.ylabel('Variable')\n",
    "plt.legend(loc=4)"
   ]
  },
  {
   "cell_type": "markdown",
   "id": "67eecda8",
   "metadata": {},
   "source": [
    "It looks like that `Survival Months` was the main driver in this classification problem."
   ]
  },
  {
   "cell_type": "markdown",
   "id": "5c8e28d7",
   "metadata": {},
   "source": [
    "We will calculate the predicting accuracy for the training data."
   ]
  },
  {
   "cell_type": "code",
   "execution_count": 43,
   "id": "6861decf",
   "metadata": {},
   "outputs": [],
   "source": [
    "dt_optimised_pred_train = dt_optimised.predict(X_train)"
   ]
  },
  {
   "cell_type": "markdown",
   "id": "91ab39ca",
   "metadata": {},
   "source": [
    "We will calculate the predicting accuracy for the test data."
   ]
  },
  {
   "cell_type": "code",
   "execution_count": 44,
   "id": "8fdb4f87",
   "metadata": {},
   "outputs": [],
   "source": [
    "dt_optimised_pred_test = dt_optimised.predict(X_test)"
   ]
  },
  {
   "cell_type": "code",
   "execution_count": 45,
   "id": "9977c09b",
   "metadata": {},
   "outputs": [
    {
     "name": "stdout",
     "output_type": "stream",
     "text": [
      "       Predicted Alive  Predicted Dead  Total\n",
      "Alive            650.0            32.0  682.0\n",
      "Dead              61.0            62.0  123.0\n",
      "Total           1364.0           246.0    NaN\n"
     ]
    }
   ],
   "source": [
    "cm = pd.DataFrame(confusion_matrix(y_test, dt_optimised_pred_test))\n",
    "cm['Total'] = np.sum(cm, axis = 1)\n",
    "cm = cm.append(np.sum(cm, axis=1), ignore_index=True)\n",
    "cm.columns = ['Predicted Alive','Predicted Dead','Total']\n",
    "cm = cm.set_index([['Alive','Dead','Total']])\n",
    "print(cm)"
   ]
  },
  {
   "cell_type": "code",
   "execution_count": 47,
   "id": "e886b13d",
   "metadata": {},
   "outputs": [
    {
     "name": "stdout",
     "output_type": "stream",
     "text": [
      "              precision    recall  f1-score   support\n",
      "\n",
      "           0       0.91      0.95      0.93       682\n",
      "           1       0.66      0.50      0.57       123\n",
      "\n",
      "    accuracy                           0.88       805\n",
      "   macro avg       0.79      0.73      0.75       805\n",
      "weighted avg       0.88      0.88      0.88       805\n",
      "\n"
     ]
    }
   ],
   "source": [
    "print(classification_report(y_test, dt_optimised_pred_test))"
   ]
  },
  {
   "cell_type": "markdown",
   "id": "4ed30d8a",
   "metadata": {},
   "source": [
    "### 3. SVC Classifier"
   ]
  },
  {
   "cell_type": "markdown",
   "id": "223b1a64",
   "metadata": {},
   "source": [
    "We will instantiate the classifier with default hyperparameters."
   ]
  },
  {
   "cell_type": "code",
   "execution_count": 48,
   "id": "adf375d6",
   "metadata": {},
   "outputs": [],
   "source": [
    "svc=SVC() "
   ]
  },
  {
   "cell_type": "markdown",
   "id": "aa49a436",
   "metadata": {},
   "source": [
    "We will fit classifier to training dataset."
   ]
  },
  {
   "cell_type": "code",
   "execution_count": 49,
   "id": "a446eb48",
   "metadata": {},
   "outputs": [
    {
     "data": {
      "text/plain": [
       "SVC()"
      ]
     },
     "execution_count": 49,
     "metadata": {},
     "output_type": "execute_result"
    }
   ],
   "source": [
    "svc.fit(X_train,y_train)"
   ]
  },
  {
   "cell_type": "markdown",
   "id": "fbc52ea9",
   "metadata": {},
   "source": [
    "We will calculate the predicting accuracy for the training data."
   ]
  },
  {
   "cell_type": "code",
   "execution_count": 50,
   "id": "51c2a189",
   "metadata": {},
   "outputs": [],
   "source": [
    "svc_pred_train = svc.predict(X_train)"
   ]
  },
  {
   "cell_type": "markdown",
   "id": "8579337e",
   "metadata": {},
   "source": [
    "We will calculate the predicting accuracy for the test data. We will make predictions on test dataset."
   ]
  },
  {
   "cell_type": "code",
   "execution_count": 51,
   "id": "a0d34cc4",
   "metadata": {},
   "outputs": [],
   "source": [
    "svc_pred_test =svc.predict(X_test)"
   ]
  },
  {
   "cell_type": "code",
   "execution_count": 53,
   "id": "945be66f",
   "metadata": {},
   "outputs": [
    {
     "name": "stdout",
     "output_type": "stream",
     "text": [
      "SVC:\n",
      "> Accuracy on training data = 0.8947\n",
      "> Accuracy on validation data = 0.8758\n"
     ]
    }
   ],
   "source": [
    "print('SVC:\\n> Accuracy on training data = {:.4f}\\n> Accuracy on validation data = {:.4f}'.format( accuracy_score(y_true=y_train, y_pred=svc_pred_train), accuracy_score(y_true=y_test, y_pred=svc_pred_test)))"
   ]
  },
  {
   "cell_type": "markdown",
   "id": "fa689e7d",
   "metadata": {},
   "source": [
    "Support Vector Classifier has almost the same accuracy on test data and on training data."
   ]
  },
  {
   "cell_type": "markdown",
   "id": "7865c8ad",
   "metadata": {},
   "source": [
    "We will compute and print accuracy score."
   ]
  },
  {
   "cell_type": "code",
   "execution_count": 55,
   "id": "30b1660b",
   "metadata": {},
   "outputs": [
    {
     "name": "stdout",
     "output_type": "stream",
     "text": [
      "Model accuracy score with default hyperparameters: 0.8758\n"
     ]
    }
   ],
   "source": [
    "print('Model accuracy score with default hyperparameters: {0:0.4f}'. format(accuracy_score(y_test, svc_pred_test)))"
   ]
  },
  {
   "cell_type": "code",
   "execution_count": 57,
   "id": "2852257c",
   "metadata": {},
   "outputs": [
    {
     "name": "stdout",
     "output_type": "stream",
     "text": [
      "       Predicted Alive  Predicted Dead  Total\n",
      "Alive            673.0             9.0  682.0\n",
      "Dead              91.0            32.0  123.0\n",
      "Total           1364.0           246.0    NaN\n"
     ]
    }
   ],
   "source": [
    "cm = pd.DataFrame(confusion_matrix(y_test, svc_pred_test))\n",
    "cm['Total'] = np.sum(cm, axis = 1)\n",
    "cm = cm.append(np.sum(cm, axis=1), ignore_index=True)\n",
    "cm.columns = ['Predicted Alive','Predicted Dead','Total']\n",
    "cm = cm.set_index([['Alive','Dead','Total']])\n",
    "print(cm)"
   ]
  },
  {
   "cell_type": "markdown",
   "id": "06e8feab",
   "metadata": {},
   "source": [
    "From the confusion matrix, we can see that 682 observations that were classified as alive, 673 were classified correctly, and of the 123 observations that were classified as dead, 32 were correctly classified."
   ]
  },
  {
   "cell_type": "code",
   "execution_count": 58,
   "id": "798b9e18",
   "metadata": {},
   "outputs": [
    {
     "name": "stdout",
     "output_type": "stream",
     "text": [
      "              precision    recall  f1-score   support\n",
      "\n",
      "           0       0.88      0.99      0.93       682\n",
      "           1       0.78      0.26      0.39       123\n",
      "\n",
      "    accuracy                           0.88       805\n",
      "   macro avg       0.83      0.62      0.66       805\n",
      "weighted avg       0.87      0.88      0.85       805\n",
      "\n"
     ]
    }
   ],
   "source": [
    "print(classification_report(y_test, svc_pred_test))"
   ]
  },
  {
   "cell_type": "code",
   "execution_count": 59,
   "id": "277ba537",
   "metadata": {},
   "outputs": [],
   "source": [
    "grid_svc = {'C': np.linspace(1,10,10),\n",
    "            'kernel': ['linear','poly','rbf','sigmoid']}"
   ]
  },
  {
   "cell_type": "code",
   "execution_count": 60,
   "id": "db373c32",
   "metadata": {},
   "outputs": [],
   "source": [
    "model_svc = GridSearchCV(SVC(gamma='auto'),grid_svc,scoring='f1',cv=5,error_score='raise')"
   ]
  },
  {
   "cell_type": "code",
   "execution_count": 61,
   "id": "32ab0021",
   "metadata": {},
   "outputs": [
    {
     "data": {
      "text/plain": [
       "GridSearchCV(cv=5, error_score='raise', estimator=SVC(gamma='auto'),\n",
       "             param_grid={'C': array([ 1.,  2.,  3.,  4.,  5.,  6.,  7.,  8.,  9., 10.]),\n",
       "                         'kernel': ['linear', 'poly', 'rbf', 'sigmoid']},\n",
       "             scoring='f1')"
      ]
     },
     "execution_count": 61,
     "metadata": {},
     "output_type": "execute_result"
    }
   ],
   "source": [
    "model_svc.fit(X_train, y_train)"
   ]
  },
  {
   "cell_type": "code",
   "execution_count": 62,
   "id": "58834ce2",
   "metadata": {},
   "outputs": [
    {
     "name": "stdout",
     "output_type": "stream",
     "text": [
      "{'C': 7.0, 'kernel': 'linear'}\n"
     ]
    }
   ],
   "source": [
    "best_parameters = model_svc.best_params_\n",
    "print(best_parameters)"
   ]
  },
  {
   "cell_type": "markdown",
   "id": "8f04288b",
   "metadata": {},
   "source": [
    "We will instantiate the classifier with linear kernel and C = 7.0."
   ]
  },
  {
   "cell_type": "code",
   "execution_count": 63,
   "id": "38db7205",
   "metadata": {},
   "outputs": [],
   "source": [
    "svc_linear=SVC(kernel='linear', C=7.0) "
   ]
  },
  {
   "cell_type": "markdown",
   "id": "3c11c78e",
   "metadata": {},
   "source": [
    "We will fit the classifier to the training dataset."
   ]
  },
  {
   "cell_type": "code",
   "execution_count": 64,
   "id": "8531d6c8",
   "metadata": {},
   "outputs": [
    {
     "data": {
      "text/plain": [
       "SVC(C=7.0, kernel='linear')"
      ]
     },
     "execution_count": 64,
     "metadata": {},
     "output_type": "execute_result"
    }
   ],
   "source": [
    "svc_linear.fit(X_train,y_train)"
   ]
  },
  {
   "cell_type": "markdown",
   "id": "da35a2df",
   "metadata": {},
   "source": [
    "We will make predictions on the test set."
   ]
  },
  {
   "cell_type": "code",
   "execution_count": 65,
   "id": "19820b04",
   "metadata": {},
   "outputs": [],
   "source": [
    "svc_pred_linear = svc_linear.predict(X_test)"
   ]
  },
  {
   "cell_type": "markdown",
   "id": "c12218c4",
   "metadata": {},
   "source": [
    "We will compute the accuracy score."
   ]
  },
  {
   "cell_type": "code",
   "execution_count": 66,
   "id": "423a977b",
   "metadata": {},
   "outputs": [
    {
     "name": "stdout",
     "output_type": "stream",
     "text": [
      "Model accuracy score with linear kernel and C=3.0 : 0.8795\n"
     ]
    }
   ],
   "source": [
    "print('Model accuracy score with linear kernel and C=3.0 : {0:0.4f}'. format(accuracy_score(y_test, svc_pred_linear)))"
   ]
  },
  {
   "cell_type": "markdown",
   "id": "a3cb2159",
   "metadata": {},
   "source": [
    "### 4. RandomForest Classifier"
   ]
  },
  {
   "cell_type": "markdown",
   "id": "e24c02ce",
   "metadata": {},
   "source": [
    "We will instantiate the classifier."
   ]
  },
  {
   "cell_type": "code",
   "execution_count": 67,
   "id": "c26a0138",
   "metadata": {},
   "outputs": [],
   "source": [
    "rfc = RandomForestClassifier()"
   ]
  },
  {
   "cell_type": "markdown",
   "id": "bb6e05f4",
   "metadata": {},
   "source": [
    "We wil fit the model."
   ]
  },
  {
   "cell_type": "code",
   "execution_count": 68,
   "id": "5fbb8d16",
   "metadata": {},
   "outputs": [
    {
     "data": {
      "text/plain": [
       "RandomForestClassifier()"
      ]
     },
     "execution_count": 68,
     "metadata": {},
     "output_type": "execute_result"
    }
   ],
   "source": [
    "rfc.fit(X_train, y_train)"
   ]
  },
  {
   "cell_type": "markdown",
   "id": "730fb1c7",
   "metadata": {},
   "source": [
    "We will predict the accuracy on training data."
   ]
  },
  {
   "cell_type": "code",
   "execution_count": 69,
   "id": "2ad8e8ec",
   "metadata": {},
   "outputs": [],
   "source": [
    "rfc_pred_train = rfc.predict(X_train)"
   ]
  },
  {
   "cell_type": "markdown",
   "id": "840f3ccf",
   "metadata": {},
   "source": [
    "We will predict the accuracy on test data."
   ]
  },
  {
   "cell_type": "code",
   "execution_count": 70,
   "id": "2fef24b8",
   "metadata": {},
   "outputs": [],
   "source": [
    "rfc_pred_test = rfc.predict(X_test)"
   ]
  },
  {
   "cell_type": "code",
   "execution_count": 71,
   "id": "c10eab64",
   "metadata": {},
   "outputs": [
    {
     "name": "stdout",
     "output_type": "stream",
     "text": [
      "Random Forest:\n",
      "> Accuracy on training data = 1.0000\n",
      "> Accuracy on validation data = 0.8907\n"
     ]
    }
   ],
   "source": [
    "print('Random Forest:\\n> Accuracy on training data = {:.4f}\\n> Accuracy on validation data = {:.4f}'.format( accuracy_score(y_true=y_train, y_pred=rfc_pred_train), accuracy_score(y_true=y_test, y_pred=rfc_pred_test)))"
   ]
  },
  {
   "cell_type": "code",
   "execution_count": 72,
   "id": "879625e3",
   "metadata": {},
   "outputs": [
    {
     "name": "stdout",
     "output_type": "stream",
     "text": [
      "Model accuracy score with 10 decision-trees : 0.8907\n"
     ]
    }
   ],
   "source": [
    "print('Model accuracy score with 10 decision-trees : {0:0.4f}'. format(accuracy_score(y_test, rfc_pred_test)))"
   ]
  },
  {
   "cell_type": "markdown",
   "id": "177c12a2",
   "metadata": {},
   "source": [
    "We will create the classifier with n_estimators = 100."
   ]
  },
  {
   "cell_type": "code",
   "execution_count": 73,
   "id": "7a7e3353",
   "metadata": {},
   "outputs": [],
   "source": [
    "clf = RandomForestClassifier(n_estimators=100)"
   ]
  },
  {
   "cell_type": "markdown",
   "id": "addca8df",
   "metadata": {},
   "source": [
    "We will fit the model to the training dataset."
   ]
  },
  {
   "cell_type": "code",
   "execution_count": 74,
   "id": "a2edd988",
   "metadata": {},
   "outputs": [
    {
     "data": {
      "text/plain": [
       "RandomForestClassifier()"
      ]
     },
     "execution_count": 74,
     "metadata": {},
     "output_type": "execute_result"
    }
   ],
   "source": [
    "clf.fit(X_train, y_train)"
   ]
  },
  {
   "cell_type": "markdown",
   "id": "3e41fc0e",
   "metadata": {},
   "source": [
    "We will view the feature scores using the followng code."
   ]
  },
  {
   "cell_type": "code",
   "execution_count": 75,
   "id": "8ca9003f",
   "metadata": {},
   "outputs": [
    {
     "data": {
      "text/plain": [
       "Survival Months                                                    0.381382\n",
       "Age                                                                0.110338\n",
       "Regional Node Examined                                             0.096176\n",
       "Tumor Size                                                         0.096024\n",
       "Reginol Node Positive                                              0.075444\n",
       "Grade                                                              0.031658\n",
       "6th Stage                                                          0.030390\n",
       "T Stage                                                            0.025290\n",
       "N Stage                                                            0.023626\n",
       "Marital Status_Married (including common law)                      0.017551\n",
       "Progesterone Status_Negative                                       0.013768\n",
       "Progesterone Status_Positive                                       0.012118\n",
       "Marital Status_Divorced                                            0.010868\n",
       "Marital Status_Single (never married)                              0.010684\n",
       "Race _Black                                                        0.010327\n",
       "Race _White                                                        0.010115\n",
       "Estrogen Status_Positive                                           0.009452\n",
       "Estrogen Status_Negative                                           0.008471\n",
       "Race _Other (American Indian/AK Native, Asian/Pacific Islander)    0.007332\n",
       "Marital Status_Widowed                                             0.006965\n",
       "Marital Status_Separated                                           0.005076\n",
       "A Stage_Regional                                                   0.003566\n",
       "A Stage_Distant                                                    0.003379\n",
       "dtype: float64"
      ]
     },
     "execution_count": 75,
     "metadata": {},
     "output_type": "execute_result"
    }
   ],
   "source": [
    "feature_scores = pd.Series(clf.feature_importances_, index=X_train.columns).sort_values(ascending=False)\n",
    "feature_scores"
   ]
  },
  {
   "cell_type": "markdown",
   "id": "8cd038c3",
   "metadata": {},
   "source": [
    "We will create a seaborn bar plot, add labels abd title to the graph using the following code."
   ]
  },
  {
   "cell_type": "code",
   "execution_count": 76,
   "id": "21bfcc4d",
   "metadata": {},
   "outputs": [
    {
     "data": {
      "image/png": "[encoded data removed]",
      "text/plain": [
       "<Figure size 640x480 with 1 Axes>"
      ]
     },
     "metadata": {},
     "output_type": "display_data"
    }
   ],
   "source": [
    "sns.barplot(x=feature_scores, y=feature_scores.index)\n",
    "plt.xlabel('Feature Importance Score')\n",
    "plt.ylabel('Features')\n",
    "plt.title(\"Visualizing Important Features\")\n",
    "plt.show()"
   ]
  }
 ],
 "metadata": {
  "kernelspec": {
   "display_name": "Python 3 (ipykernel)",
   "language": "python",
   "name": "python3"
  },
  "language_info": {
   "codemirror_mode": {
    "name": "ipython",
    "version": 3
   },
   "file_extension": ".py",
   "mimetype": "text/x-python",
   "name": "python",
   "nbconvert_exporter": "python",
   "pygments_lexer": "ipython3",
   "version": "3.7.13"
  }
 },
 "nbformat": 4,
 "nbformat_minor": 5
}
