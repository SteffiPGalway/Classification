{
 "cells": [
  {
   "cell_type": "markdown",
   "id": "46256d98",
   "metadata": {},
   "source": [
    "# Logistic Regression"
   ]
  },
  {
   "cell_type": "markdown",
   "id": "47090891",
   "metadata": {},
   "source": [
    "## A. Introduction"
   ]
  },
  {
   "cell_type": "markdown",
   "id": "0dbe2faf",
   "metadata": {},
   "source": [
    "**Numerical Features:**\n",
    "- age: age of the patient (years)\n",
    "- creatinine phosphokinase (CPK): level of the CPK enzyme in the blood (mcg/L)\n",
    "- ejection fraction: percentage of blood leaving the heart at each contraction (percentage)\n",
    "- platelets: platelets in the blood (kiloplatelets/mL)\n",
    "- serum creatinine: level of serum creatinine in the blood (mg/dL)\n",
    "- serum sodium: level of serum sodium in the blood (mEq/L)\n",
    "- time: follow-up period (days)"
   ]
  },
  {
   "cell_type": "markdown",
   "id": "b7395256",
   "metadata": {},
   "source": [
    "**Categorical Features:**\n",
    "- anaemia: decrease of red blood cells or hemoglobin (boolean)\n",
    "- high blood pressure: if the patient has hypertension (boolean)\n",
    "- diabetes: if the patient has diabetes (boolean)\n",
    "- sex: woman or man (binary)\n",
    "- smoking: if the patient smokes or not (boolean)"
   ]
  },
  {
   "cell_type": "markdown",
   "id": "8c2cbef4",
   "metadata": {},
   "source": [
    "**Target Variable:**\n",
    "- death event: if the patient deceased during the follow-up period (boolean)"
   ]
  },
  {
   "cell_type": "markdown",
   "id": "181d0c55",
   "metadata": {},
   "source": [
    "## B. Importing Libraries & Dataset"
   ]
  },
  {
   "cell_type": "code",
   "execution_count": 1,
   "id": "eae8a338",
   "metadata": {},
   "outputs": [],
   "source": [
    "# Importing the required libraries and packages  \n",
    "from sklearn.model_selection import train_test_split\n",
    "from sklearn.linear_model import LogisticRegression\n",
    "from sklearn.model_selection import GridSearchCV\n",
    "from sklearn.metrics import classification_report\n",
    "from sklearn.metrics import confusion_matrix\n",
    "from sklearn import metrics\n",
    "import matplotlib.pyplot as plt\n",
    "import pandas as pd\n",
    "import numpy as np  "
   ]
  },
  {
   "cell_type": "code",
   "execution_count": 2,
   "id": "0ac37129",
   "metadata": {},
   "outputs": [],
   "source": [
    "df = pd.read_csv(r\"/Users/steffipoliwoda/Desktop/heartFailure.csv\")"
   ]
  },
  {
   "cell_type": "code",
   "execution_count": 3,
   "id": "a144f799",
   "metadata": {},
   "outputs": [
    {
     "data": {
      "text/html": [
       "<div>\n",
       "<style scoped>\n",
       "    .dataframe tbody tr th:only-of-type {\n",
       "        vertical-align: middle;\n",
       "    }\n",
       "\n",
       "    .dataframe tbody tr th {\n",
       "        vertical-align: top;\n",
       "    }\n",
       "\n",
       "    .dataframe thead th {\n",
       "        text-align: right;\n",
       "    }\n",
       "</style>\n",
       "<table border=\"1\" class=\"dataframe\">\n",
       "  <thead>\n",
       "    <tr style=\"text-align: right;\">\n",
       "      <th></th>\n",
       "      <th>age</th>\n",
       "      <th>anaemia</th>\n",
       "      <th>creatinine_phosphokinase</th>\n",
       "      <th>diabetes</th>\n",
       "      <th>ejection_fraction</th>\n",
       "      <th>high_blood_pressure</th>\n",
       "      <th>platelets</th>\n",
       "      <th>serum_creatinine</th>\n",
       "      <th>serum_sodium</th>\n",
       "      <th>sex</th>\n",
       "      <th>smoking</th>\n",
       "      <th>time</th>\n",
       "      <th>DEATH_EVENT</th>\n",
       "    </tr>\n",
       "  </thead>\n",
       "  <tbody>\n",
       "    <tr>\n",
       "      <th>0</th>\n",
       "      <td>75.0</td>\n",
       "      <td>0</td>\n",
       "      <td>582</td>\n",
       "      <td>0</td>\n",
       "      <td>20</td>\n",
       "      <td>1</td>\n",
       "      <td>265000.00</td>\n",
       "      <td>1.9</td>\n",
       "      <td>130</td>\n",
       "      <td>1</td>\n",
       "      <td>0</td>\n",
       "      <td>4</td>\n",
       "      <td>1</td>\n",
       "    </tr>\n",
       "    <tr>\n",
       "      <th>1</th>\n",
       "      <td>55.0</td>\n",
       "      <td>0</td>\n",
       "      <td>7861</td>\n",
       "      <td>0</td>\n",
       "      <td>38</td>\n",
       "      <td>0</td>\n",
       "      <td>263358.03</td>\n",
       "      <td>1.1</td>\n",
       "      <td>136</td>\n",
       "      <td>1</td>\n",
       "      <td>0</td>\n",
       "      <td>6</td>\n",
       "      <td>1</td>\n",
       "    </tr>\n",
       "    <tr>\n",
       "      <th>2</th>\n",
       "      <td>65.0</td>\n",
       "      <td>0</td>\n",
       "      <td>146</td>\n",
       "      <td>0</td>\n",
       "      <td>20</td>\n",
       "      <td>0</td>\n",
       "      <td>162000.00</td>\n",
       "      <td>1.3</td>\n",
       "      <td>129</td>\n",
       "      <td>1</td>\n",
       "      <td>1</td>\n",
       "      <td>7</td>\n",
       "      <td>1</td>\n",
       "    </tr>\n",
       "    <tr>\n",
       "      <th>3</th>\n",
       "      <td>50.0</td>\n",
       "      <td>1</td>\n",
       "      <td>111</td>\n",
       "      <td>0</td>\n",
       "      <td>20</td>\n",
       "      <td>0</td>\n",
       "      <td>210000.00</td>\n",
       "      <td>1.9</td>\n",
       "      <td>137</td>\n",
       "      <td>1</td>\n",
       "      <td>0</td>\n",
       "      <td>7</td>\n",
       "      <td>1</td>\n",
       "    </tr>\n",
       "    <tr>\n",
       "      <th>4</th>\n",
       "      <td>65.0</td>\n",
       "      <td>1</td>\n",
       "      <td>160</td>\n",
       "      <td>1</td>\n",
       "      <td>20</td>\n",
       "      <td>0</td>\n",
       "      <td>327000.00</td>\n",
       "      <td>2.7</td>\n",
       "      <td>116</td>\n",
       "      <td>0</td>\n",
       "      <td>0</td>\n",
       "      <td>8</td>\n",
       "      <td>1</td>\n",
       "    </tr>\n",
       "  </tbody>\n",
       "</table>\n",
       "</div>"
      ],
      "text/plain": [
       "    age  anaemia  creatinine_phosphokinase  diabetes  ejection_fraction  \\\n",
       "0  75.0        0                       582         0                 20   \n",
       "1  55.0        0                      7861         0                 38   \n",
       "2  65.0        0                       146         0                 20   \n",
       "3  50.0        1                       111         0                 20   \n",
       "4  65.0        1                       160         1                 20   \n",
       "\n",
       "   high_blood_pressure  platelets  serum_creatinine  serum_sodium  sex  \\\n",
       "0                    1  265000.00               1.9           130    1   \n",
       "1                    0  263358.03               1.1           136    1   \n",
       "2                    0  162000.00               1.3           129    1   \n",
       "3                    0  210000.00               1.9           137    1   \n",
       "4                    0  327000.00               2.7           116    0   \n",
       "\n",
       "   smoking  time  DEATH_EVENT  \n",
       "0        0     4            1  \n",
       "1        0     6            1  \n",
       "2        1     7            1  \n",
       "3        0     7            1  \n",
       "4        0     8            1  "
      ]
     },
     "execution_count": 3,
     "metadata": {},
     "output_type": "execute_result"
    }
   ],
   "source": [
    "df.head()"
   ]
  },
  {
   "cell_type": "code",
   "execution_count": 4,
   "id": "5aab62c4",
   "metadata": {},
   "outputs": [
    {
     "data": {
      "text/html": [
       "<div>\n",
       "<style scoped>\n",
       "    .dataframe tbody tr th:only-of-type {\n",
       "        vertical-align: middle;\n",
       "    }\n",
       "\n",
       "    .dataframe tbody tr th {\n",
       "        vertical-align: top;\n",
       "    }\n",
       "\n",
       "    .dataframe thead th {\n",
       "        text-align: right;\n",
       "    }\n",
       "</style>\n",
       "<table border=\"1\" class=\"dataframe\">\n",
       "  <thead>\n",
       "    <tr style=\"text-align: right;\">\n",
       "      <th></th>\n",
       "      <th>age</th>\n",
       "      <th>anaemia</th>\n",
       "      <th>creatinine_phosphokinase</th>\n",
       "      <th>diabetes</th>\n",
       "      <th>ejection_fraction</th>\n",
       "      <th>high_blood_pressure</th>\n",
       "      <th>platelets</th>\n",
       "      <th>serum_creatinine</th>\n",
       "      <th>serum_sodium</th>\n",
       "      <th>sex</th>\n",
       "      <th>smoking</th>\n",
       "      <th>time</th>\n",
       "      <th>DEATH_EVENT</th>\n",
       "    </tr>\n",
       "  </thead>\n",
       "  <tbody>\n",
       "    <tr>\n",
       "      <th>294</th>\n",
       "      <td>62.0</td>\n",
       "      <td>0</td>\n",
       "      <td>61</td>\n",
       "      <td>1</td>\n",
       "      <td>38</td>\n",
       "      <td>1</td>\n",
       "      <td>155000.0</td>\n",
       "      <td>1.1</td>\n",
       "      <td>143</td>\n",
       "      <td>1</td>\n",
       "      <td>1</td>\n",
       "      <td>270</td>\n",
       "      <td>0</td>\n",
       "    </tr>\n",
       "    <tr>\n",
       "      <th>295</th>\n",
       "      <td>55.0</td>\n",
       "      <td>0</td>\n",
       "      <td>1820</td>\n",
       "      <td>0</td>\n",
       "      <td>38</td>\n",
       "      <td>0</td>\n",
       "      <td>270000.0</td>\n",
       "      <td>1.2</td>\n",
       "      <td>139</td>\n",
       "      <td>0</td>\n",
       "      <td>0</td>\n",
       "      <td>271</td>\n",
       "      <td>0</td>\n",
       "    </tr>\n",
       "    <tr>\n",
       "      <th>296</th>\n",
       "      <td>45.0</td>\n",
       "      <td>0</td>\n",
       "      <td>2060</td>\n",
       "      <td>1</td>\n",
       "      <td>60</td>\n",
       "      <td>0</td>\n",
       "      <td>742000.0</td>\n",
       "      <td>0.8</td>\n",
       "      <td>138</td>\n",
       "      <td>0</td>\n",
       "      <td>0</td>\n",
       "      <td>278</td>\n",
       "      <td>0</td>\n",
       "    </tr>\n",
       "    <tr>\n",
       "      <th>297</th>\n",
       "      <td>45.0</td>\n",
       "      <td>0</td>\n",
       "      <td>2413</td>\n",
       "      <td>0</td>\n",
       "      <td>38</td>\n",
       "      <td>0</td>\n",
       "      <td>140000.0</td>\n",
       "      <td>1.4</td>\n",
       "      <td>140</td>\n",
       "      <td>1</td>\n",
       "      <td>1</td>\n",
       "      <td>280</td>\n",
       "      <td>0</td>\n",
       "    </tr>\n",
       "    <tr>\n",
       "      <th>298</th>\n",
       "      <td>50.0</td>\n",
       "      <td>0</td>\n",
       "      <td>196</td>\n",
       "      <td>0</td>\n",
       "      <td>45</td>\n",
       "      <td>0</td>\n",
       "      <td>395000.0</td>\n",
       "      <td>1.6</td>\n",
       "      <td>136</td>\n",
       "      <td>1</td>\n",
       "      <td>1</td>\n",
       "      <td>285</td>\n",
       "      <td>0</td>\n",
       "    </tr>\n",
       "  </tbody>\n",
       "</table>\n",
       "</div>"
      ],
      "text/plain": [
       "      age  anaemia  creatinine_phosphokinase  diabetes  ejection_fraction  \\\n",
       "294  62.0        0                        61         1                 38   \n",
       "295  55.0        0                      1820         0                 38   \n",
       "296  45.0        0                      2060         1                 60   \n",
       "297  45.0        0                      2413         0                 38   \n",
       "298  50.0        0                       196         0                 45   \n",
       "\n",
       "     high_blood_pressure  platelets  serum_creatinine  serum_sodium  sex  \\\n",
       "294                    1   155000.0               1.1           143    1   \n",
       "295                    0   270000.0               1.2           139    0   \n",
       "296                    0   742000.0               0.8           138    0   \n",
       "297                    0   140000.0               1.4           140    1   \n",
       "298                    0   395000.0               1.6           136    1   \n",
       "\n",
       "     smoking  time  DEATH_EVENT  \n",
       "294        1   270            0  \n",
       "295        0   271            0  \n",
       "296        0   278            0  \n",
       "297        1   280            0  \n",
       "298        1   285            0  "
      ]
     },
     "execution_count": 4,
     "metadata": {},
     "output_type": "execute_result"
    }
   ],
   "source": [
    "df.tail()"
   ]
  },
  {
   "cell_type": "markdown",
   "id": "fe1fc62e",
   "metadata": {},
   "source": [
    "## C. Feature Selection"
   ]
  },
  {
   "cell_type": "markdown",
   "id": "1115a186",
   "metadata": {},
   "source": [
    "We will divide the columns into two types of variables:\n",
    "- Feature variable (independent)\n",
    "- Target variable (dependent)"
   ]
  },
  {
   "cell_type": "code",
   "execution_count": 5,
   "id": "aec3015a",
   "metadata": {},
   "outputs": [],
   "source": [
    "feature_columns = ['age', 'anaemia', 'creatinine_phosphokinase', 'diabetes','ejection_fraction','high_blood_pressure','platelets', 'serum_creatinine', 'serum_sodium', 'sex', 'smoking', 'time']"
   ]
  },
  {
   "cell_type": "code",
   "execution_count": 6,
   "id": "dc85486a",
   "metadata": {},
   "outputs": [],
   "source": [
    "#split dataset in features and target variable\n",
    "x = df[feature_columns]\n",
    "y = df['DEATH_EVENT']"
   ]
  },
  {
   "cell_type": "markdown",
   "id": "18a3e319",
   "metadata": {},
   "source": [
    "## D. Splitting Dataset"
   ]
  },
  {
   "cell_type": "markdown",
   "id": "01e5fb8d",
   "metadata": {},
   "source": [
    "We will divide the dataset into a training set and a test set using the function train_test_split() and by passing three parameters: \n",
    "- features\n",
    "- target\n",
    "- test_set size\n",
    "- Optional: random_state"
   ]
  },
  {
   "cell_type": "code",
   "execution_count": 7,
   "id": "d629b13e",
   "metadata": {},
   "outputs": [],
   "source": [
    "# split X and y into training and testing sets\n",
    "x_train, x_test, y_train, y_test = train_test_split(x, y, test_size=0.25, random_state = 16)"
   ]
  },
  {
   "cell_type": "markdown",
   "id": "e70a1d32",
   "metadata": {},
   "source": [
    "The Dataset is split into two parts with a ratio of 75:25. It means that 75% data will be used for model training and 25% for model testing."
   ]
  },
  {
   "cell_type": "markdown",
   "id": "0568cbe6",
   "metadata": {},
   "source": [
    "## E. Model Development "
   ]
  },
  {
   "cell_type": "markdown",
   "id": "e3c514fa",
   "metadata": {},
   "source": [
    "We will create a Logistic Regression classifier object using the LogisticRegression() function with random_state."
   ]
  },
  {
   "cell_type": "code",
   "execution_count": 8,
   "id": "fac5f624",
   "metadata": {},
   "outputs": [],
   "source": [
    "# instantiate the model (using the default parameters)\n",
    "model = LogisticRegression()"
   ]
  },
  {
   "cell_type": "markdown",
   "id": "a47a916f",
   "metadata": {},
   "source": [
    "We will fit our model on the train set using fit()."
   ]
  },
  {
   "cell_type": "code",
   "execution_count": 9,
   "id": "81700f9a",
   "metadata": {},
   "outputs": [
    {
     "data": {
      "text/plain": [
       "LogisticRegression()"
      ]
     },
     "execution_count": 9,
     "metadata": {},
     "output_type": "execute_result"
    }
   ],
   "source": [
    "# fit the model with data\n",
    "model.fit(x_train, y_train)"
   ]
  },
  {
   "cell_type": "code",
   "execution_count": 10,
   "id": "e5f305b9",
   "metadata": {},
   "outputs": [
    {
     "name": "stdout",
     "output_type": "stream",
     "text": [
      "Optimization terminated successfully.\n",
      "         Current function value: 0.372660\n",
      "         Iterations 7\n",
      "                           Logit Regression Results                           \n",
      "==============================================================================\n",
      "Dep. Variable:            DEATH_EVENT   No. Observations:                  299\n",
      "Model:                          Logit   Df Residuals:                      287\n",
      "Method:                           MLE   Df Model:                           11\n",
      "Date:                Sat, 18 Feb 2023   Pseudo R-squ.:                  0.4063\n",
      "Time:                        15:56:29   Log-Likelihood:                -111.43\n",
      "converged:                       True   LL-Null:                       -187.67\n",
      "Covariance Type:            nonrobust   LLR p-value:                 4.599e-27\n",
      "============================================================================================\n",
      "                               coef    std err          z      P>|z|      [0.025      0.975]\n",
      "--------------------------------------------------------------------------------------------\n",
      "age                          0.0523      0.015      3.387      0.001       0.022       0.083\n",
      "anaemia                     -0.0374      0.357     -0.105      0.916      -0.737       0.662\n",
      "creatinine_phosphokinase     0.0002      0.000      1.227      0.220      -0.000       0.001\n",
      "diabetes                     0.2460      0.345      0.714      0.476      -0.430       0.922\n",
      "ejection_fraction           -0.0757      0.016     -4.724      0.000      -0.107      -0.044\n",
      "high_blood_pressure         -0.0773      0.355     -0.218      0.828      -0.774       0.619\n",
      "platelets                -1.109e-06   1.83e-06     -0.606      0.544   -4.69e-06    2.48e-06\n",
      "serum_creatinine             0.7226      0.180      4.012      0.000       0.370       1.076\n",
      "serum_sodium                 0.0032      0.009      0.351      0.725      -0.015       0.021\n",
      "sex                         -0.4456      0.406     -1.099      0.272      -1.241       0.349\n",
      "smoking                     -0.0163      0.409     -0.040      0.968      -0.817       0.785\n",
      "time                        -0.0204      0.003     -6.947      0.000      -0.026      -0.015\n",
      "============================================================================================\n"
     ]
    }
   ],
   "source": [
    "import statsmodels.api as sm\n",
    "logit_model=sm.Logit(y,x)\n",
    "result=logit_model.fit()\n",
    "print(result.summary())"
   ]
  },
  {
   "cell_type": "markdown",
   "id": "6e65f618",
   "metadata": {},
   "source": [
    "The statsmodels library gives us a breakdown of the coefficient results as well as the associated p-values to determine the significance.\n",
    "\n",
    "The values in the coef column of the output tell us the average change in the log odds of surviving heart failure. \n",
    "\n",
    "The values in the P>|z| column represent the p-values for each coefficient. Age has a p-value of .001. Since this value is less than .05, it means there is a statistically significant relationship between age and whether or not  a patient  survived or deceased.\n",
    "\n",
    "Pseudo R-Squared value can range from 0 to 1. Higher values indicate a better model fit. In this example, the pseudo R-squared value is 0.4063. This is not very high. It tells us that the predictor variables age, anaemia, creatinine phosphokinase, etc. in the model don’t do a very good job of predicting the value of the response variable Death Event.\n",
    "\n",
    "LLR p-value is the substitute to the p-value for the overall F-value of a linear regression model. If this value is below a certain threshold (e.g. α = .05) then we conclude that the model overall is useful and the model is better at predicting the values of the response variable compared to a model with no predictor variables."
   ]
  },
  {
   "cell_type": "markdown",
   "id": "5552afe7",
   "metadata": {},
   "source": [
    "## F. Estimation of Model Parameters"
   ]
  },
  {
   "cell_type": "markdown",
   "id": "fc971310",
   "metadata": {},
   "source": [
    "We will extract the value for the intercept."
   ]
  },
  {
   "cell_type": "code",
   "execution_count": 11,
   "id": "186253c7",
   "metadata": {},
   "outputs": [
    {
     "name": "stdout",
     "output_type": "stream",
     "text": [
      "[0.00022105]\n"
     ]
    }
   ],
   "source": [
    "# Get the intercept\n",
    "intercept = model.intercept_\n",
    "print(intercept)"
   ]
  },
  {
   "cell_type": "markdown",
   "id": "6f6628ae",
   "metadata": {},
   "source": [
    "We will extract the value for the coefficient."
   ]
  },
  {
   "cell_type": "code",
   "execution_count": 12,
   "id": "75bdb719",
   "metadata": {},
   "outputs": [
    {
     "name": "stdout",
     "output_type": "stream",
     "text": [
      "[[ 5.38458117e-02  5.36773673e-04  2.31503895e-04  9.27113916e-05\n",
      "  -7.74073086e-02 -1.58834172e-04 -2.92700745e-06  7.34575441e-03\n",
      "   1.10442224e-02  3.91177459e-05 -2.10509760e-04 -1.89739330e-02]]\n"
     ]
    }
   ],
   "source": [
    "# Extract the coefficients\n",
    "coefficients = model.coef_\n",
    "print(coefficients)"
   ]
  },
  {
   "cell_type": "markdown",
   "id": "18802c5c",
   "metadata": {},
   "source": [
    "We will place the coefficients into a list."
   ]
  },
  {
   "cell_type": "code",
   "execution_count": 13,
   "id": "fa62196b",
   "metadata": {},
   "outputs": [],
   "source": [
    "# Place the coefficients into a list \n",
    "coef_list = list(coefficients[0,:])"
   ]
  },
  {
   "cell_type": "code",
   "execution_count": 14,
   "id": "68ea9907",
   "metadata": {},
   "outputs": [
    {
     "name": "stdout",
     "output_type": "stream",
     "text": [
      "                     Feature  Coefficient\n",
      "0                        age     0.053846\n",
      "1                    anaemia     0.000537\n",
      "2   creatinine_phosphokinase     0.000232\n",
      "3                   diabetes     0.000093\n",
      "4          ejection_fraction    -0.077407\n",
      "5        high_blood_pressure    -0.000159\n",
      "6                  platelets    -0.000003\n",
      "7           serum_creatinine     0.007346\n",
      "8               serum_sodium     0.011044\n",
      "9                        sex     0.000039\n",
      "10                   smoking    -0.000211\n",
      "11                      time    -0.018974\n"
     ]
    }
   ],
   "source": [
    "coef_df = pd.DataFrame({'Feature': list(x_train.columns), 'Coefficient': coef_list})\n",
    "print(coef_df)"
   ]
  },
  {
   "cell_type": "markdown",
   "id": "ca1c3efa",
   "metadata": {},
   "source": [
    "How to interpret the coefficiens? Positive number means increased risk of heart failure. Negative number means decreased risk of heart failure.\n",
    "\n",
    "We would like to study the effect of age, anaemia, creatinine phosphokinase, serum creatinine, serum sodium, and diabetes on the risk of getting a heart failure.\n",
    "\n",
    "The coefficient for age can be interpreted as for every 1-degree increase in age, the log odds of death event increase by 0.053846, controlling for all other features in the model."
   ]
  },
  {
   "cell_type": "markdown",
   "id": "91296f93",
   "metadata": {},
   "source": [
    "## G. Prediction"
   ]
  },
  {
   "cell_type": "markdown",
   "id": "5819d81f",
   "metadata": {},
   "source": [
    "We will perform prediction on the test set using predict(). "
   ]
  },
  {
   "cell_type": "code",
   "execution_count": 15,
   "id": "cf1ac0cd",
   "metadata": {},
   "outputs": [
    {
     "name": "stdout",
     "output_type": "stream",
     "text": [
      "[0 1 1 0 0 0 0 0 0 0 0 1 0 0 0 0 0 0 0 0 0 0 0 1 0 0 1 1 1 0 0 0 0 1 0 0 1\n",
      " 0 0 0 0 0 0 0 0 0 1 1 0 1 0 0 1 0 0 1 0 0 0 0 0 0 1 0 0 1 0 0 1 0 0 0 0 0\n",
      " 0]\n"
     ]
    }
   ],
   "source": [
    "y_pred = model.predict(x_test)\n",
    "print(y_pred)"
   ]
  },
  {
   "cell_type": "code",
   "execution_count": 16,
   "id": "6cd2e067",
   "metadata": {},
   "outputs": [
    {
     "name": "stdout",
     "output_type": "stream",
     "text": [
      "[0.07080456 0.77610264 0.96170099 0.07508564 0.01895285 0.01131578\n",
      " 0.09761882 0.37361775 0.19721155 0.09784872 0.24765502 0.87959528\n",
      " 0.15030553 0.33314376 0.01568275 0.22505096 0.04168702 0.03290395\n",
      " 0.04596488 0.17897766 0.04542936 0.47390284 0.01310331 0.69707556\n",
      " 0.00348903 0.00672968 0.80380594 0.59536587 0.92166442 0.04326618\n",
      " 0.13545508 0.2226864  0.0200924  0.82034832 0.1196354  0.01664191\n",
      " 0.91973768 0.34286205 0.02617931 0.02250461 0.19026347 0.02357007\n",
      " 0.30526761 0.0085903  0.37041612 0.02122069 0.92743687 0.92396029\n",
      " 0.15090108 0.887119   0.11366953 0.49934792 0.92169149 0.10489906\n",
      " 0.11349973 0.59280492 0.3672482  0.15614939 0.01227657 0.02202503\n",
      " 0.20885994 0.03661011 0.81352057 0.20157818 0.36012269 0.79008463\n",
      " 0.03164202 0.47360656 0.6787441  0.20522783 0.12296244 0.01281602\n",
      " 0.42072783 0.39932861 0.0226181 ]\n"
     ]
    }
   ],
   "source": [
    "# Generate predicted probabilities\n",
    "predicted_prob = model.predict_proba(x_test)[:,1]\n",
    "print(predicted_prob)"
   ]
  },
  {
   "cell_type": "code",
   "execution_count": 17,
   "id": "ce4620fc",
   "metadata": {},
   "outputs": [
    {
     "name": "stdout",
     "output_type": "stream",
     "text": [
      "[0 1 1 0 0 0 0 0 0 0 0 1 0 0 0 0 0 0 0 0 0 0 0 1 0 0 1 1 1 0 0 0 0 1 0 0 1\n",
      " 0 0 0 0 0 0 0 0 0 1 1 0 1 0 0 1 0 0 1 0 0 0 0 0 0 1 0 0 1 0 0 1 0 0 0 0 0\n",
      " 0]\n"
     ]
    }
   ],
   "source": [
    "# generate predicted class\n",
    "predicted_class = model.predict(x_test)\n",
    "print(predicted_class)"
   ]
  },
  {
   "cell_type": "markdown",
   "id": "9b2718f4",
   "metadata": {},
   "source": [
    "## H. Model Evaluation"
   ]
  },
  {
   "cell_type": "markdown",
   "id": "fd311de5",
   "metadata": {},
   "source": [
    "A confusion matrix is a table that is used to evaluate the performance of a classification model."
   ]
  },
  {
   "cell_type": "code",
   "execution_count": 18,
   "id": "05585b80",
   "metadata": {},
   "outputs": [
    {
     "name": "stdout",
     "output_type": "stream",
     "text": [
      "            Predicted No  Predicted Yes  Total\n",
      "Actual No             48              4     52\n",
      "Actual Yes            10             13     23\n",
      "Total                 58             17     75\n"
     ]
    }
   ],
   "source": [
    "cm = pd.DataFrame(confusion_matrix(y_test, predicted_class))\n",
    "cm['Total'] = np.sum(cm, axis=1)\n",
    "cm = cm.append(np.sum(cm, axis=0), ignore_index=True)\n",
    "cm.columns = ['Predicted No', 'Predicted Yes', 'Total']\n",
    "cm = cm.set_index([['Actual No', 'Actual Yes', 'Total']])\n",
    "print(cm)"
   ]
  },
  {
   "cell_type": "markdown",
   "id": "dd7ab650",
   "metadata": {},
   "source": [
    "48 and 13 are actual predictions, and 10 and 4 are incorrect predictions."
   ]
  },
  {
   "cell_type": "markdown",
   "id": "7b8804bb",
   "metadata": {},
   "source": [
    "We will evaluate the model using classification_report for accuracy, precision, and recall."
   ]
  },
  {
   "cell_type": "code",
   "execution_count": 19,
   "id": "b0c52444",
   "metadata": {},
   "outputs": [
    {
     "name": "stdout",
     "output_type": "stream",
     "text": [
      "              precision    recall  f1-score   support\n",
      "\n",
      "    survived       0.83      0.92      0.87        52\n",
      "    deceased       0.76      0.57      0.65        23\n",
      "\n",
      "    accuracy                           0.81        75\n",
      "   macro avg       0.80      0.74      0.76        75\n",
      "weighted avg       0.81      0.81      0.80        75\n",
      "\n"
     ]
    }
   ],
   "source": [
    "target_names = ['survived', 'deceased']\n",
    "print(classification_report(y_test, y_pred, target_names=target_names))"
   ]
  },
  {
   "cell_type": "markdown",
   "id": "716cb9b0",
   "metadata": {},
   "source": [
    "We got a classification rate of 81%. This is considered as good accuracy.\n",
    "\n",
    "Precision: Precision is about being precise, i.e., how accurate your model is. In other words, you can say, when a model makes a prediction, how often it is correct. "
   ]
  },
  {
   "cell_type": "markdown",
   "id": "9f3e64eb",
   "metadata": {},
   "source": [
    "## I. ROC Curve"
   ]
  },
  {
   "cell_type": "markdown",
   "id": "bacf8f32",
   "metadata": {},
   "source": [
    "Receiver Operating Characteristic(ROC) curve is a plot of the true positive rate against the false positive rate. It shows the tradeoff between sensitivity and specificity."
   ]
  },
  {
   "cell_type": "code",
   "execution_count": 20,
   "id": "1e48e9a7",
   "metadata": {},
   "outputs": [
    {
     "data": {
      "image/png": "[encoded data removed]",
      "text/plain": [
       "<Figure size 432x288 with 1 Axes>"
      ]
     },
     "metadata": {
      "needs_background": "light"
     },
     "output_type": "display_data"
    }
   ],
   "source": [
    "y_pred_proba = model.predict_proba(x_test)[::,1]\n",
    "fpr, tpr, _ = metrics.roc_curve(y_test,  y_pred_proba)\n",
    "auc = metrics.roc_auc_score(y_test, y_pred_proba)\n",
    "plt.plot(fpr,tpr,label=\"data 1, auc=\"+str(auc))\n",
    "plt.legend(loc=4)\n",
    "plt.show()"
   ]
  },
  {
   "cell_type": "markdown",
   "id": "2328ae95",
   "metadata": {},
   "source": [
    "Area Under Curve (AUC) score for the case is 0.89. AUC score 1 represents a perfect classifier."
   ]
  },
  {
   "cell_type": "markdown",
   "id": "ffaf005b",
   "metadata": {},
   "source": [
    "## J. GridsearchCV"
   ]
  },
  {
   "cell_type": "markdown",
   "id": "a9ea0633",
   "metadata": {},
   "source": [
    "GridSearch is a method for finding the optimal parameter values from a given set of parameters in a grid. It is a cross-validation technique."
   ]
  },
  {
   "cell_type": "code",
   "execution_count": 21,
   "id": "5ad4c22a",
   "metadata": {},
   "outputs": [],
   "source": [
    "grid = {'penalty': ['l1', 'l2'], 'C': np.linspace(1, 10, 10), 'solver': ['liblinear']}"
   ]
  },
  {
   "cell_type": "code",
   "execution_count": 22,
   "id": "f3faea4f",
   "metadata": {},
   "outputs": [],
   "source": [
    "model2 = GridSearchCV(LogisticRegression(solver='liblinear'), grid, scoring='f1', cv=5)"
   ]
  },
  {
   "cell_type": "code",
   "execution_count": 23,
   "id": "37ac2b5b",
   "metadata": {},
   "outputs": [
    {
     "data": {
      "text/plain": [
       "GridSearchCV(cv=5, estimator=LogisticRegression(solver='liblinear'),\n",
       "             param_grid={'C': array([ 1.,  2.,  3.,  4.,  5.,  6.,  7.,  8.,  9., 10.]),\n",
       "                         'penalty': ['l1', 'l2'], 'solver': ['liblinear']},\n",
       "             scoring='f1')"
      ]
     },
     "execution_count": 23,
     "metadata": {},
     "output_type": "execute_result"
    }
   ],
   "source": [
    "model2.fit(x_train, y_train) "
   ]
  },
  {
   "cell_type": "code",
   "execution_count": 24,
   "id": "6c002882",
   "metadata": {},
   "outputs": [
    {
     "name": "stdout",
     "output_type": "stream",
     "text": [
      "{'C': 3.0, 'penalty': 'l2', 'solver': 'liblinear'}\n"
     ]
    }
   ],
   "source": [
    "best_parameters = model2.best_params_\n",
    "print(best_parameters)"
   ]
  },
  {
   "cell_type": "code",
   "execution_count": 25,
   "id": "cb1f526c",
   "metadata": {},
   "outputs": [],
   "source": [
    "# Generate predicted probabilities\n",
    "predicted_prob = model2.predict_proba(x_test)[:,1]"
   ]
  },
  {
   "cell_type": "code",
   "execution_count": 26,
   "id": "6c16dc57",
   "metadata": {},
   "outputs": [],
   "source": [
    "# Generate predicted classes\n",
    "predicted_class = model2.predict(x_test)"
   ]
  },
  {
   "cell_type": "code",
   "execution_count": 27,
   "id": "e8c33889",
   "metadata": {},
   "outputs": [
    {
     "name": "stdout",
     "output_type": "stream",
     "text": [
      "            Predicted No  Predicted Yes  Total\n",
      "Actual No             47              5     52\n",
      "Actual Yes             9             14     23\n",
      "Total                 56             19     75\n"
     ]
    }
   ],
   "source": [
    "cm = pd.DataFrame(confusion_matrix(y_test, predicted_class))\n",
    "cm['Total'] = np.sum(cm, axis=1)\n",
    "cm = cm.append(np.sum(cm, axis=0), ignore_index=True)\n",
    "cm.columns = ['Predicted No', 'Predicted Yes', 'Total']\n",
    "cm = cm.set_index([['Actual No', 'Actual Yes', 'Total']])\n",
    "print(cm)"
   ]
  },
  {
   "cell_type": "code",
   "execution_count": 28,
   "id": "7adb1d76",
   "metadata": {},
   "outputs": [
    {
     "name": "stdout",
     "output_type": "stream",
     "text": [
      "              precision    recall  f1-score   support\n",
      "\n",
      "           0       0.84      0.90      0.87        52\n",
      "           1       0.74      0.61      0.67        23\n",
      "\n",
      "    accuracy                           0.81        75\n",
      "   macro avg       0.79      0.76      0.77        75\n",
      "weighted avg       0.81      0.81      0.81        75\n",
      "\n"
     ]
    }
   ],
   "source": [
    "print(classification_report(y_test, predicted_class))"
   ]
  }
 ],
 "metadata": {
  "kernelspec": {
   "display_name": "Python 3 (ipykernel)",
   "language": "python",
   "name": "python3"
  },
  "language_info": {
   "codemirror_mode": {
    "name": "ipython",
    "version": 3
   },
   "file_extension": ".py",
   "mimetype": "text/x-python",
   "name": "python",
   "nbconvert_exporter": "python",
   "pygments_lexer": "ipython3",
   "version": "3.7.13"
  }
 },
 "nbformat": 4,
 "nbformat_minor": 5
}
